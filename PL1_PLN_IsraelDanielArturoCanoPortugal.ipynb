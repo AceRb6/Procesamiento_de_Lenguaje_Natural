{
  "nbformat": 4,
  "nbformat_minor": 0,
  "metadata": {
    "colab": {
      "provenance": [],
      "authorship_tag": "ABX9TyOhmksivR4QuD1ek4BkwIWT",
      "include_colab_link": true
    },
    "kernelspec": {
      "name": "python3",
      "display_name": "Python 3"
    },
    "language_info": {
      "name": "python"
    }
  },
  "cells": [
    {
      "cell_type": "markdown",
      "metadata": {
        "id": "view-in-github",
        "colab_type": "text"
      },
      "source": [
        "<a href=\"https://colab.research.google.com/github/AceRb6/Procesamiento_de_Lenguaje_Natural/blob/main/PL1_PLN_IsraelDanielArturoCanoPortugal.ipynb\" target=\"_parent\"><img src=\"https://colab.research.google.com/assets/colab-badge.svg\" alt=\"Open In Colab\"/></a>"
      ]
    },
    {
      "cell_type": "markdown",
      "source": [
        "# **Practica 1 - Tokenizacion y normalizacion**\n",
        "\n"
      ],
      "metadata": {
        "id": "-hxbFLxpBm4P"
      }
    },
    {
      "cell_type": "markdown",
      "source": [
        "**Materia:** Procesamiento de lenguaje natural\n",
        "\n",
        "**Alumno:** Cano Portugal Israel Daniel Arturo\n",
        "\n",
        "**Profesor:** Gutierrez Mondragon Mario Alberto\n",
        "\n",
        "**Grupo:** 6AV1"
      ],
      "metadata": {
        "id": "dmMHJWyzk406"
      }
    },
    {
      "cell_type": "markdown",
      "source": [
        "# **Instalaciones necesarias**"
      ],
      "metadata": {
        "id": "fZuH4D3blqn0"
      }
    },
    {
      "cell_type": "code",
      "source": [
        "!pip install nltk spacy sentencepiece"
      ],
      "metadata": {
        "colab": {
          "base_uri": "https://localhost:8080/"
        },
        "id": "jOcqAGrt76gG",
        "outputId": "03117dbc-58c1-4199-e4c0-68d7d306a5f6",
        "collapsed": true
      },
      "execution_count": null,
      "outputs": [
        {
          "output_type": "stream",
          "name": "stdout",
          "text": [
            "Requirement already satisfied: nltk in /usr/local/lib/python3.11/dist-packages (3.9.1)\n",
            "Requirement already satisfied: spacy in /usr/local/lib/python3.11/dist-packages (3.7.5)\n",
            "Requirement already satisfied: sentencepiece in /usr/local/lib/python3.11/dist-packages (0.2.0)\n",
            "Requirement already satisfied: click in /usr/local/lib/python3.11/dist-packages (from nltk) (8.1.8)\n",
            "Requirement already satisfied: joblib in /usr/local/lib/python3.11/dist-packages (from nltk) (1.4.2)\n",
            "Requirement already satisfied: regex>=2021.8.3 in /usr/local/lib/python3.11/dist-packages (from nltk) (2024.11.6)\n",
            "Requirement already satisfied: tqdm in /usr/local/lib/python3.11/dist-packages (from nltk) (4.67.1)\n",
            "Requirement already satisfied: spacy-legacy<3.1.0,>=3.0.11 in /usr/local/lib/python3.11/dist-packages (from spacy) (3.0.12)\n",
            "Requirement already satisfied: spacy-loggers<2.0.0,>=1.0.0 in /usr/local/lib/python3.11/dist-packages (from spacy) (1.0.5)\n",
            "Requirement already satisfied: murmurhash<1.1.0,>=0.28.0 in /usr/local/lib/python3.11/dist-packages (from spacy) (1.0.12)\n",
            "Requirement already satisfied: cymem<2.1.0,>=2.0.2 in /usr/local/lib/python3.11/dist-packages (from spacy) (2.0.11)\n",
            "Requirement already satisfied: preshed<3.1.0,>=3.0.2 in /usr/local/lib/python3.11/dist-packages (from spacy) (3.0.9)\n",
            "Requirement already satisfied: thinc<8.3.0,>=8.2.2 in /usr/local/lib/python3.11/dist-packages (from spacy) (8.2.5)\n",
            "Requirement already satisfied: wasabi<1.2.0,>=0.9.1 in /usr/local/lib/python3.11/dist-packages (from spacy) (1.1.3)\n",
            "Requirement already satisfied: srsly<3.0.0,>=2.4.3 in /usr/local/lib/python3.11/dist-packages (from spacy) (2.5.1)\n",
            "Requirement already satisfied: catalogue<2.1.0,>=2.0.6 in /usr/local/lib/python3.11/dist-packages (from spacy) (2.0.10)\n",
            "Requirement already satisfied: weasel<0.5.0,>=0.1.0 in /usr/local/lib/python3.11/dist-packages (from spacy) (0.4.1)\n",
            "Requirement already satisfied: typer<1.0.0,>=0.3.0 in /usr/local/lib/python3.11/dist-packages (from spacy) (0.15.1)\n",
            "Requirement already satisfied: requests<3.0.0,>=2.13.0 in /usr/local/lib/python3.11/dist-packages (from spacy) (2.32.3)\n",
            "Requirement already satisfied: pydantic!=1.8,!=1.8.1,<3.0.0,>=1.7.4 in /usr/local/lib/python3.11/dist-packages (from spacy) (2.10.6)\n",
            "Requirement already satisfied: jinja2 in /usr/local/lib/python3.11/dist-packages (from spacy) (3.1.5)\n",
            "Requirement already satisfied: setuptools in /usr/local/lib/python3.11/dist-packages (from spacy) (75.1.0)\n",
            "Requirement already satisfied: packaging>=20.0 in /usr/local/lib/python3.11/dist-packages (from spacy) (24.2)\n",
            "Requirement already satisfied: langcodes<4.0.0,>=3.2.0 in /usr/local/lib/python3.11/dist-packages (from spacy) (3.5.0)\n",
            "Requirement already satisfied: numpy>=1.19.0 in /usr/local/lib/python3.11/dist-packages (from spacy) (1.26.4)\n",
            "Requirement already satisfied: language-data>=1.2 in /usr/local/lib/python3.11/dist-packages (from langcodes<4.0.0,>=3.2.0->spacy) (1.3.0)\n",
            "Requirement already satisfied: annotated-types>=0.6.0 in /usr/local/lib/python3.11/dist-packages (from pydantic!=1.8,!=1.8.1,<3.0.0,>=1.7.4->spacy) (0.7.0)\n",
            "Requirement already satisfied: pydantic-core==2.27.2 in /usr/local/lib/python3.11/dist-packages (from pydantic!=1.8,!=1.8.1,<3.0.0,>=1.7.4->spacy) (2.27.2)\n",
            "Requirement already satisfied: typing-extensions>=4.12.2 in /usr/local/lib/python3.11/dist-packages (from pydantic!=1.8,!=1.8.1,<3.0.0,>=1.7.4->spacy) (4.12.2)\n",
            "Requirement already satisfied: charset-normalizer<4,>=2 in /usr/local/lib/python3.11/dist-packages (from requests<3.0.0,>=2.13.0->spacy) (3.4.1)\n",
            "Requirement already satisfied: idna<4,>=2.5 in /usr/local/lib/python3.11/dist-packages (from requests<3.0.0,>=2.13.0->spacy) (3.10)\n",
            "Requirement already satisfied: urllib3<3,>=1.21.1 in /usr/local/lib/python3.11/dist-packages (from requests<3.0.0,>=2.13.0->spacy) (2.3.0)\n",
            "Requirement already satisfied: certifi>=2017.4.17 in /usr/local/lib/python3.11/dist-packages (from requests<3.0.0,>=2.13.0->spacy) (2025.1.31)\n",
            "Requirement already satisfied: blis<0.8.0,>=0.7.8 in /usr/local/lib/python3.11/dist-packages (from thinc<8.3.0,>=8.2.2->spacy) (0.7.11)\n",
            "Requirement already satisfied: confection<1.0.0,>=0.0.1 in /usr/local/lib/python3.11/dist-packages (from thinc<8.3.0,>=8.2.2->spacy) (0.1.5)\n",
            "Requirement already satisfied: shellingham>=1.3.0 in /usr/local/lib/python3.11/dist-packages (from typer<1.0.0,>=0.3.0->spacy) (1.5.4)\n",
            "Requirement already satisfied: rich>=10.11.0 in /usr/local/lib/python3.11/dist-packages (from typer<1.0.0,>=0.3.0->spacy) (13.9.4)\n",
            "Requirement already satisfied: cloudpathlib<1.0.0,>=0.7.0 in /usr/local/lib/python3.11/dist-packages (from weasel<0.5.0,>=0.1.0->spacy) (0.20.0)\n",
            "Requirement already satisfied: smart-open<8.0.0,>=5.2.1 in /usr/local/lib/python3.11/dist-packages (from weasel<0.5.0,>=0.1.0->spacy) (7.1.0)\n",
            "Requirement already satisfied: MarkupSafe>=2.0 in /usr/local/lib/python3.11/dist-packages (from jinja2->spacy) (3.0.2)\n",
            "Requirement already satisfied: marisa-trie>=1.1.0 in /usr/local/lib/python3.11/dist-packages (from language-data>=1.2->langcodes<4.0.0,>=3.2.0->spacy) (1.2.1)\n",
            "Requirement already satisfied: markdown-it-py>=2.2.0 in /usr/local/lib/python3.11/dist-packages (from rich>=10.11.0->typer<1.0.0,>=0.3.0->spacy) (3.0.0)\n",
            "Requirement already satisfied: pygments<3.0.0,>=2.13.0 in /usr/local/lib/python3.11/dist-packages (from rich>=10.11.0->typer<1.0.0,>=0.3.0->spacy) (2.18.0)\n",
            "Requirement already satisfied: wrapt in /usr/local/lib/python3.11/dist-packages (from smart-open<8.0.0,>=5.2.1->weasel<0.5.0,>=0.1.0->spacy) (1.17.2)\n",
            "Requirement already satisfied: mdurl~=0.1 in /usr/local/lib/python3.11/dist-packages (from markdown-it-py>=2.2.0->rich>=10.11.0->typer<1.0.0,>=0.3.0->spacy) (0.1.2)\n"
          ]
        }
      ]
    },
    {
      "cell_type": "code",
      "source": [
        "!python -m spacy download en_core_web_sm"
      ],
      "metadata": {
        "colab": {
          "base_uri": "https://localhost:8080/"
        },
        "id": "_wcY3pB_79rS",
        "outputId": "1c3c28b3-d977-484e-da02-fa292d219450",
        "collapsed": true
      },
      "execution_count": null,
      "outputs": [
        {
          "output_type": "stream",
          "name": "stdout",
          "text": [
            "Collecting en-core-web-sm==3.7.1\n",
            "  Downloading https://github.com/explosion/spacy-models/releases/download/en_core_web_sm-3.7.1/en_core_web_sm-3.7.1-py3-none-any.whl (12.8 MB)\n",
            "\u001b[2K     \u001b[90m━━━━━━━━━━━━━━━━━━━━━━━━━━━━━━━━━━━━━━━━\u001b[0m \u001b[32m12.8/12.8 MB\u001b[0m \u001b[31m26.7 MB/s\u001b[0m eta \u001b[36m0:00:00\u001b[0m\n",
            "\u001b[?25hRequirement already satisfied: spacy<3.8.0,>=3.7.2 in /usr/local/lib/python3.11/dist-packages (from en-core-web-sm==3.7.1) (3.7.5)\n",
            "Requirement already satisfied: spacy-legacy<3.1.0,>=3.0.11 in /usr/local/lib/python3.11/dist-packages (from spacy<3.8.0,>=3.7.2->en-core-web-sm==3.7.1) (3.0.12)\n",
            "Requirement already satisfied: spacy-loggers<2.0.0,>=1.0.0 in /usr/local/lib/python3.11/dist-packages (from spacy<3.8.0,>=3.7.2->en-core-web-sm==3.7.1) (1.0.5)\n",
            "Requirement already satisfied: murmurhash<1.1.0,>=0.28.0 in /usr/local/lib/python3.11/dist-packages (from spacy<3.8.0,>=3.7.2->en-core-web-sm==3.7.1) (1.0.12)\n",
            "Requirement already satisfied: cymem<2.1.0,>=2.0.2 in /usr/local/lib/python3.11/dist-packages (from spacy<3.8.0,>=3.7.2->en-core-web-sm==3.7.1) (2.0.11)\n",
            "Requirement already satisfied: preshed<3.1.0,>=3.0.2 in /usr/local/lib/python3.11/dist-packages (from spacy<3.8.0,>=3.7.2->en-core-web-sm==3.7.1) (3.0.9)\n",
            "Requirement already satisfied: thinc<8.3.0,>=8.2.2 in /usr/local/lib/python3.11/dist-packages (from spacy<3.8.0,>=3.7.2->en-core-web-sm==3.7.1) (8.2.5)\n",
            "Requirement already satisfied: wasabi<1.2.0,>=0.9.1 in /usr/local/lib/python3.11/dist-packages (from spacy<3.8.0,>=3.7.2->en-core-web-sm==3.7.1) (1.1.3)\n",
            "Requirement already satisfied: srsly<3.0.0,>=2.4.3 in /usr/local/lib/python3.11/dist-packages (from spacy<3.8.0,>=3.7.2->en-core-web-sm==3.7.1) (2.5.1)\n",
            "Requirement already satisfied: catalogue<2.1.0,>=2.0.6 in /usr/local/lib/python3.11/dist-packages (from spacy<3.8.0,>=3.7.2->en-core-web-sm==3.7.1) (2.0.10)\n",
            "Requirement already satisfied: weasel<0.5.0,>=0.1.0 in /usr/local/lib/python3.11/dist-packages (from spacy<3.8.0,>=3.7.2->en-core-web-sm==3.7.1) (0.4.1)\n",
            "Requirement already satisfied: typer<1.0.0,>=0.3.0 in /usr/local/lib/python3.11/dist-packages (from spacy<3.8.0,>=3.7.2->en-core-web-sm==3.7.1) (0.15.1)\n",
            "Requirement already satisfied: tqdm<5.0.0,>=4.38.0 in /usr/local/lib/python3.11/dist-packages (from spacy<3.8.0,>=3.7.2->en-core-web-sm==3.7.1) (4.67.1)\n",
            "Requirement already satisfied: requests<3.0.0,>=2.13.0 in /usr/local/lib/python3.11/dist-packages (from spacy<3.8.0,>=3.7.2->en-core-web-sm==3.7.1) (2.32.3)\n",
            "Requirement already satisfied: pydantic!=1.8,!=1.8.1,<3.0.0,>=1.7.4 in /usr/local/lib/python3.11/dist-packages (from spacy<3.8.0,>=3.7.2->en-core-web-sm==3.7.1) (2.10.6)\n",
            "Requirement already satisfied: jinja2 in /usr/local/lib/python3.11/dist-packages (from spacy<3.8.0,>=3.7.2->en-core-web-sm==3.7.1) (3.1.5)\n",
            "Requirement already satisfied: setuptools in /usr/local/lib/python3.11/dist-packages (from spacy<3.8.0,>=3.7.2->en-core-web-sm==3.7.1) (75.1.0)\n",
            "Requirement already satisfied: packaging>=20.0 in /usr/local/lib/python3.11/dist-packages (from spacy<3.8.0,>=3.7.2->en-core-web-sm==3.7.1) (24.2)\n",
            "Requirement already satisfied: langcodes<4.0.0,>=3.2.0 in /usr/local/lib/python3.11/dist-packages (from spacy<3.8.0,>=3.7.2->en-core-web-sm==3.7.1) (3.5.0)\n",
            "Requirement already satisfied: numpy>=1.19.0 in /usr/local/lib/python3.11/dist-packages (from spacy<3.8.0,>=3.7.2->en-core-web-sm==3.7.1) (1.26.4)\n",
            "Requirement already satisfied: language-data>=1.2 in /usr/local/lib/python3.11/dist-packages (from langcodes<4.0.0,>=3.2.0->spacy<3.8.0,>=3.7.2->en-core-web-sm==3.7.1) (1.3.0)\n",
            "Requirement already satisfied: annotated-types>=0.6.0 in /usr/local/lib/python3.11/dist-packages (from pydantic!=1.8,!=1.8.1,<3.0.0,>=1.7.4->spacy<3.8.0,>=3.7.2->en-core-web-sm==3.7.1) (0.7.0)\n",
            "Requirement already satisfied: pydantic-core==2.27.2 in /usr/local/lib/python3.11/dist-packages (from pydantic!=1.8,!=1.8.1,<3.0.0,>=1.7.4->spacy<3.8.0,>=3.7.2->en-core-web-sm==3.7.1) (2.27.2)\n",
            "Requirement already satisfied: typing-extensions>=4.12.2 in /usr/local/lib/python3.11/dist-packages (from pydantic!=1.8,!=1.8.1,<3.0.0,>=1.7.4->spacy<3.8.0,>=3.7.2->en-core-web-sm==3.7.1) (4.12.2)\n",
            "Requirement already satisfied: charset-normalizer<4,>=2 in /usr/local/lib/python3.11/dist-packages (from requests<3.0.0,>=2.13.0->spacy<3.8.0,>=3.7.2->en-core-web-sm==3.7.1) (3.4.1)\n",
            "Requirement already satisfied: idna<4,>=2.5 in /usr/local/lib/python3.11/dist-packages (from requests<3.0.0,>=2.13.0->spacy<3.8.0,>=3.7.2->en-core-web-sm==3.7.1) (3.10)\n",
            "Requirement already satisfied: urllib3<3,>=1.21.1 in /usr/local/lib/python3.11/dist-packages (from requests<3.0.0,>=2.13.0->spacy<3.8.0,>=3.7.2->en-core-web-sm==3.7.1) (2.3.0)\n",
            "Requirement already satisfied: certifi>=2017.4.17 in /usr/local/lib/python3.11/dist-packages (from requests<3.0.0,>=2.13.0->spacy<3.8.0,>=3.7.2->en-core-web-sm==3.7.1) (2025.1.31)\n",
            "Requirement already satisfied: blis<0.8.0,>=0.7.8 in /usr/local/lib/python3.11/dist-packages (from thinc<8.3.0,>=8.2.2->spacy<3.8.0,>=3.7.2->en-core-web-sm==3.7.1) (0.7.11)\n",
            "Requirement already satisfied: confection<1.0.0,>=0.0.1 in /usr/local/lib/python3.11/dist-packages (from thinc<8.3.0,>=8.2.2->spacy<3.8.0,>=3.7.2->en-core-web-sm==3.7.1) (0.1.5)\n",
            "Requirement already satisfied: click>=8.0.0 in /usr/local/lib/python3.11/dist-packages (from typer<1.0.0,>=0.3.0->spacy<3.8.0,>=3.7.2->en-core-web-sm==3.7.1) (8.1.8)\n",
            "Requirement already satisfied: shellingham>=1.3.0 in /usr/local/lib/python3.11/dist-packages (from typer<1.0.0,>=0.3.0->spacy<3.8.0,>=3.7.2->en-core-web-sm==3.7.1) (1.5.4)\n",
            "Requirement already satisfied: rich>=10.11.0 in /usr/local/lib/python3.11/dist-packages (from typer<1.0.0,>=0.3.0->spacy<3.8.0,>=3.7.2->en-core-web-sm==3.7.1) (13.9.4)\n",
            "Requirement already satisfied: cloudpathlib<1.0.0,>=0.7.0 in /usr/local/lib/python3.11/dist-packages (from weasel<0.5.0,>=0.1.0->spacy<3.8.0,>=3.7.2->en-core-web-sm==3.7.1) (0.20.0)\n",
            "Requirement already satisfied: smart-open<8.0.0,>=5.2.1 in /usr/local/lib/python3.11/dist-packages (from weasel<0.5.0,>=0.1.0->spacy<3.8.0,>=3.7.2->en-core-web-sm==3.7.1) (7.1.0)\n",
            "Requirement already satisfied: MarkupSafe>=2.0 in /usr/local/lib/python3.11/dist-packages (from jinja2->spacy<3.8.0,>=3.7.2->en-core-web-sm==3.7.1) (3.0.2)\n",
            "Requirement already satisfied: marisa-trie>=1.1.0 in /usr/local/lib/python3.11/dist-packages (from language-data>=1.2->langcodes<4.0.0,>=3.2.0->spacy<3.8.0,>=3.7.2->en-core-web-sm==3.7.1) (1.2.1)\n",
            "Requirement already satisfied: markdown-it-py>=2.2.0 in /usr/local/lib/python3.11/dist-packages (from rich>=10.11.0->typer<1.0.0,>=0.3.0->spacy<3.8.0,>=3.7.2->en-core-web-sm==3.7.1) (3.0.0)\n",
            "Requirement already satisfied: pygments<3.0.0,>=2.13.0 in /usr/local/lib/python3.11/dist-packages (from rich>=10.11.0->typer<1.0.0,>=0.3.0->spacy<3.8.0,>=3.7.2->en-core-web-sm==3.7.1) (2.18.0)\n",
            "Requirement already satisfied: wrapt in /usr/local/lib/python3.11/dist-packages (from smart-open<8.0.0,>=5.2.1->weasel<0.5.0,>=0.1.0->spacy<3.8.0,>=3.7.2->en-core-web-sm==3.7.1) (1.17.2)\n",
            "Requirement already satisfied: mdurl~=0.1 in /usr/local/lib/python3.11/dist-packages (from markdown-it-py>=2.2.0->rich>=10.11.0->typer<1.0.0,>=0.3.0->spacy<3.8.0,>=3.7.2->en-core-web-sm==3.7.1) (0.1.2)\n",
            "\u001b[38;5;2m✔ Download and installation successful\u001b[0m\n",
            "You can now load the package via spacy.load('en_core_web_sm')\n",
            "\u001b[38;5;3m⚠ Restart to reload dependencies\u001b[0m\n",
            "If you are in a Jupyter or Colab notebook, you may need to restart Python in\n",
            "order to load all the package's dependencies. You can do this by selecting the\n",
            "'Restart kernel' or 'Restart runtime' option.\n"
          ]
        }
      ]
    },
    {
      "cell_type": "markdown",
      "source": [
        "Texto prueba:"
      ],
      "metadata": {
        "id": "h2liRjZ078DG"
      }
    },
    {
      "cell_type": "code",
      "source": [
        "text=(\"The power of internet search engines lies in their ability to respond to a user’s query with an ordered list of web sites ranked by importance and relevance. The heart of Google’s search engine is the PageRank algorithm, which assigns an importance value to each web page, called its page rank. The algorithm is remarkable given the massiveness of the web with over one trillion web pages, and is an impressive achievement of mathematics, particularly linear algebra. Although the actual PageRank algorithm is complex with many technical (and secret) details, the page rank of a particular web page is easily described by means of a stochastic model. Consider a hypothetical web surfer who travels across the internet moving from page to page at random. When the surfer is on a particular web page, they pick one of the available hypertext links on that page uniformly at random and then move to that page.\")\n",
        "display(text)"
      ],
      "metadata": {
        "colab": {
          "base_uri": "https://localhost:8080/",
          "height": 122
        },
        "id": "XmvpjvE8IEpt",
        "outputId": "abe00c62-5ec8-48ee-8f51-f14ae0989cb3"
      },
      "execution_count": null,
      "outputs": [
        {
          "output_type": "display_data",
          "data": {
            "text/plain": [
              "'The power of internet search engines lies in their ability to respond to a user’s query with an ordered list of web sites ranked by importance and relevance. The heart of Google’s search engine is the PageRank algorithm, which assigns an importance value to each web page, called its page rank. The algorithm is remarkable given the massiveness of the web with over one trillion web pages, and is an impressive achievement of mathematics, particularly linear algebra. Although the actual PageRank algorithm is complex with many technical (and secret) details, the page rank of a particular web page is easily described by means of a stochastic model. Consider a hypothetical web surfer who travels across the internet moving from page to page at random. When the surfer is on a particular web page, they pick one of the available hypertext links on that page uniformly at random and then move to that page.'"
            ],
            "application/vnd.google.colaboratory.intrinsic+json": {
              "type": "string"
            }
          },
          "metadata": {}
        }
      ]
    },
    {
      "cell_type": "markdown",
      "source": [
        "# **Tokenizacion**\n",
        "# Por caracteres\n"
      ],
      "metadata": {
        "id": "U89CjSpOI0Iu"
      }
    },
    {
      "cell_type": "code",
      "source": [
        "#Imprimo directamente los caracteres\n",
        "print(list(text))"
      ],
      "metadata": {
        "colab": {
          "base_uri": "https://localhost:8080/"
        },
        "id": "rlQnwMCWJAIu",
        "outputId": "ac5b0f98-2740-440d-a6ac-1e88067dbb3f"
      },
      "execution_count": null,
      "outputs": [
        {
          "output_type": "stream",
          "name": "stdout",
          "text": [
            "['T', 'h', 'e', ' ', 'p', 'o', 'w', 'e', 'r', ' ', 'o', 'f', ' ', 'i', 'n', 't', 'e', 'r', 'n', 'e', 't', ' ', 's', 'e', 'a', 'r', 'c', 'h', ' ', 'e', 'n', 'g', 'i', 'n', 'e', 's', ' ', 'l', 'i', 'e', 's', ' ', 'i', 'n', ' ', 't', 'h', 'e', 'i', 'r', ' ', 'a', 'b', 'i', 'l', 'i', 't', 'y', ' ', 't', 'o', ' ', 'r', 'e', 's', 'p', 'o', 'n', 'd', ' ', 't', 'o', ' ', 'a', ' ', 'u', 's', 'e', 'r', '’', 's', ' ', 'q', 'u', 'e', 'r', 'y', ' ', 'w', 'i', 't', 'h', ' ', 'a', 'n', ' ', 'o', 'r', 'd', 'e', 'r', 'e', 'd', ' ', 'l', 'i', 's', 't', ' ', 'o', 'f', ' ', 'w', 'e', 'b', ' ', 's', 'i', 't', 'e', 's', ' ', 'r', 'a', 'n', 'k', 'e', 'd', ' ', 'b', 'y', ' ', 'i', 'm', 'p', 'o', 'r', 't', 'a', 'n', 'c', 'e', ' ', 'a', 'n', 'd', ' ', 'r', 'e', 'l', 'e', 'v', 'a', 'n', 'c', 'e', '.', ' ', 'T', 'h', 'e', ' ', 'h', 'e', 'a', 'r', 't', ' ', 'o', 'f', ' ', 'G', 'o', 'o', 'g', 'l', 'e', '’', 's', ' ', 's', 'e', 'a', 'r', 'c', 'h', ' ', 'e', 'n', 'g', 'i', 'n', 'e', ' ', 'i', 's', ' ', 't', 'h', 'e', ' ', 'P', 'a', 'g', 'e', 'R', 'a', 'n', 'k', ' ', 'a', 'l', 'g', 'o', 'r', 'i', 't', 'h', 'm', ',', ' ', 'w', 'h', 'i', 'c', 'h', ' ', 'a', 's', 's', 'i', 'g', 'n', 's', ' ', 'a', 'n', ' ', 'i', 'm', 'p', 'o', 'r', 't', 'a', 'n', 'c', 'e', ' ', 'v', 'a', 'l', 'u', 'e', ' ', 't', 'o', ' ', 'e', 'a', 'c', 'h', ' ', 'w', 'e', 'b', ' ', 'p', 'a', 'g', 'e', ',', ' ', 'c', 'a', 'l', 'l', 'e', 'd', ' ', 'i', 't', 's', ' ', 'p', 'a', 'g', 'e', ' ', 'r', 'a', 'n', 'k', '.', ' ', 'T', 'h', 'e', ' ', 'a', 'l', 'g', 'o', 'r', 'i', 't', 'h', 'm', ' ', 'i', 's', ' ', 'r', 'e', 'm', 'a', 'r', 'k', 'a', 'b', 'l', 'e', ' ', 'g', 'i', 'v', 'e', 'n', ' ', 't', 'h', 'e', ' ', 'm', 'a', 's', 's', 'i', 'v', 'e', 'n', 'e', 's', 's', ' ', 'o', 'f', ' ', 't', 'h', 'e', ' ', 'w', 'e', 'b', ' ', 'w', 'i', 't', 'h', ' ', 'o', 'v', 'e', 'r', ' ', 'o', 'n', 'e', ' ', 't', 'r', 'i', 'l', 'l', 'i', 'o', 'n', ' ', 'w', 'e', 'b', ' ', 'p', 'a', 'g', 'e', 's', ',', ' ', 'a', 'n', 'd', ' ', 'i', 's', ' ', 'a', 'n', ' ', 'i', 'm', 'p', 'r', 'e', 's', 's', 'i', 'v', 'e', ' ', 'a', 'c', 'h', 'i', 'e', 'v', 'e', 'm', 'e', 'n', 't', ' ', 'o', 'f', ' ', 'm', 'a', 't', 'h', 'e', 'm', 'a', 't', 'i', 'c', 's', ',', ' ', 'p', 'a', 'r', 't', 'i', 'c', 'u', 'l', 'a', 'r', 'l', 'y', ' ', 'l', 'i', 'n', 'e', 'a', 'r', ' ', 'a', 'l', 'g', 'e', 'b', 'r', 'a', '.', ' ', 'A', 'l', 't', 'h', 'o', 'u', 'g', 'h', ' ', 't', 'h', 'e', ' ', 'a', 'c', 't', 'u', 'a', 'l', ' ', 'P', 'a', 'g', 'e', 'R', 'a', 'n', 'k', ' ', 'a', 'l', 'g', 'o', 'r', 'i', 't', 'h', 'm', ' ', 'i', 's', ' ', 'c', 'o', 'm', 'p', 'l', 'e', 'x', ' ', 'w', 'i', 't', 'h', ' ', 'm', 'a', 'n', 'y', ' ', 't', 'e', 'c', 'h', 'n', 'i', 'c', 'a', 'l', ' ', '(', 'a', 'n', 'd', ' ', 's', 'e', 'c', 'r', 'e', 't', ')', ' ', 'd', 'e', 't', 'a', 'i', 'l', 's', ',', ' ', 't', 'h', 'e', ' ', 'p', 'a', 'g', 'e', ' ', 'r', 'a', 'n', 'k', ' ', 'o', 'f', ' ', 'a', ' ', 'p', 'a', 'r', 't', 'i', 'c', 'u', 'l', 'a', 'r', ' ', 'w', 'e', 'b', ' ', 'p', 'a', 'g', 'e', ' ', 'i', 's', ' ', 'e', 'a', 's', 'i', 'l', 'y', ' ', 'd', 'e', 's', 'c', 'r', 'i', 'b', 'e', 'd', ' ', 'b', 'y', ' ', 'm', 'e', 'a', 'n', 's', ' ', 'o', 'f', ' ', 'a', ' ', 's', 't', 'o', 'c', 'h', 'a', 's', 't', 'i', 'c', ' ', 'm', 'o', 'd', 'e', 'l', '.', ' ', 'C', 'o', 'n', 's', 'i', 'd', 'e', 'r', ' ', 'a', ' ', 'h', 'y', 'p', 'o', 't', 'h', 'e', 't', 'i', 'c', 'a', 'l', ' ', 'w', 'e', 'b', ' ', 's', 'u', 'r', 'f', 'e', 'r', ' ', 'w', 'h', 'o', ' ', 't', 'r', 'a', 'v', 'e', 'l', 's', ' ', 'a', 'c', 'r', 'o', 's', 's', ' ', 't', 'h', 'e', ' ', 'i', 'n', 't', 'e', 'r', 'n', 'e', 't', ' ', 'm', 'o', 'v', 'i', 'n', 'g', ' ', 'f', 'r', 'o', 'm', ' ', 'p', 'a', 'g', 'e', ' ', 't', 'o', ' ', 'p', 'a', 'g', 'e', ' ', 'a', 't', ' ', 'r', 'a', 'n', 'd', 'o', 'm', '.', ' ', 'W', 'h', 'e', 'n', ' ', 't', 'h', 'e', ' ', 's', 'u', 'r', 'f', 'e', 'r', ' ', 'i', 's', ' ', 'o', 'n', ' ', 'a', ' ', 'p', 'a', 'r', 't', 'i', 'c', 'u', 'l', 'a', 'r', ' ', 'w', 'e', 'b', ' ', 'p', 'a', 'g', 'e', ',', ' ', 't', 'h', 'e', 'y', ' ', 'p', 'i', 'c', 'k', ' ', 'o', 'n', 'e', ' ', 'o', 'f', ' ', 't', 'h', 'e', ' ', 'a', 'v', 'a', 'i', 'l', 'a', 'b', 'l', 'e', ' ', 'h', 'y', 'p', 'e', 'r', 't', 'e', 'x', 't', ' ', 'l', 'i', 'n', 'k', 's', ' ', 'o', 'n', ' ', 't', 'h', 'a', 't', ' ', 'p', 'a', 'g', 'e', ' ', 'u', 'n', 'i', 'f', 'o', 'r', 'm', 'l', 'y', ' ', 'a', 't', ' ', 'r', 'a', 'n', 'd', 'o', 'm', ' ', 'a', 'n', 'd', ' ', 't', 'h', 'e', 'n', ' ', 'm', 'o', 'v', 'e', ' ', 't', 'o', ' ', 't', 'h', 'a', 't', ' ', 'p', 'a', 'g', 'e', '.']\n"
          ]
        }
      ]
    },
    {
      "cell_type": "markdown",
      "source": [
        "En este caso, la tokenización por caracteres resulta especialmente útil para analizar el uso de caracteres especiales, patrones gramaticales y posibles errores ortográficos. Al descomponer el texto en unidades tan pequeñas como letras o símbolos, podemos identificar con precisión anomalías que podrían pasar desapercibidas en la tokenización.\n",
        "\n",
        "Además, esta técnica permite detectar inconsistencias en el uso de signos de puntuación, espacios mal colocados o incluso abreviaturas inusuales. Por ejemplo, en español, el uso incorrecto de comillas inglesas (\"\") en lugar de comillas españolas («») podría ser rápidamente identificado mediante la tokenización por caracteres. También es útil para analizar textos donde se mezclan diferentes sistemas de escritura o donde se requiere un nivel profundo de detalle, como en la validación de datos, la corrección de estilo o la preparación de modelos de lenguaje especializados."
      ],
      "metadata": {
        "id": "jgec75_NJNM1"
      }
    },
    {
      "cell_type": "markdown",
      "source": [
        "# Por palabra"
      ],
      "metadata": {
        "id": "IyVQKxZVKV8F"
      }
    },
    {
      "cell_type": "code",
      "source": [
        "#Separacion por palabras\n",
        "text.split()"
      ],
      "metadata": {
        "colab": {
          "base_uri": "https://localhost:8080/"
        },
        "id": "iSuvo4ijKcYM",
        "outputId": "9c9c544a-09cb-48b8-ebca-c85a829a1d38"
      },
      "execution_count": null,
      "outputs": [
        {
          "output_type": "execute_result",
          "data": {
            "text/plain": [
              "['The',\n",
              " 'power',\n",
              " 'of',\n",
              " 'internet',\n",
              " 'search',\n",
              " 'engines',\n",
              " 'lies',\n",
              " 'in',\n",
              " 'their',\n",
              " 'ability',\n",
              " 'to',\n",
              " 'respond',\n",
              " 'to',\n",
              " 'a',\n",
              " 'user’s',\n",
              " 'query',\n",
              " 'with',\n",
              " 'an',\n",
              " 'ordered',\n",
              " 'list',\n",
              " 'of',\n",
              " 'web',\n",
              " 'sites',\n",
              " 'ranked',\n",
              " 'by',\n",
              " 'importance',\n",
              " 'and',\n",
              " 'relevance.',\n",
              " 'The',\n",
              " 'heart',\n",
              " 'of',\n",
              " 'Google’s',\n",
              " 'search',\n",
              " 'engine',\n",
              " 'is',\n",
              " 'the',\n",
              " 'PageRank',\n",
              " 'algorithm,',\n",
              " 'which',\n",
              " 'assigns',\n",
              " 'an',\n",
              " 'importance',\n",
              " 'value',\n",
              " 'to',\n",
              " 'each',\n",
              " 'web',\n",
              " 'page,',\n",
              " 'called',\n",
              " 'its',\n",
              " 'page',\n",
              " 'rank.',\n",
              " 'The',\n",
              " 'algorithm',\n",
              " 'is',\n",
              " 'remarkable',\n",
              " 'given',\n",
              " 'the',\n",
              " 'massiveness',\n",
              " 'of',\n",
              " 'the',\n",
              " 'web',\n",
              " 'with',\n",
              " 'over',\n",
              " 'one',\n",
              " 'trillion',\n",
              " 'web',\n",
              " 'pages,',\n",
              " 'and',\n",
              " 'is',\n",
              " 'an',\n",
              " 'impressive',\n",
              " 'achievement',\n",
              " 'of',\n",
              " 'mathematics,',\n",
              " 'particularly',\n",
              " 'linear',\n",
              " 'algebra.',\n",
              " 'Although',\n",
              " 'the',\n",
              " 'actual',\n",
              " 'PageRank',\n",
              " 'algorithm',\n",
              " 'is',\n",
              " 'complex',\n",
              " 'with',\n",
              " 'many',\n",
              " 'technical',\n",
              " '(and',\n",
              " 'secret)',\n",
              " 'details,',\n",
              " 'the',\n",
              " 'page',\n",
              " 'rank',\n",
              " 'of',\n",
              " 'a',\n",
              " 'particular',\n",
              " 'web',\n",
              " 'page',\n",
              " 'is',\n",
              " 'easily',\n",
              " 'described',\n",
              " 'by',\n",
              " 'means',\n",
              " 'of',\n",
              " 'a',\n",
              " 'stochastic',\n",
              " 'model.',\n",
              " 'Consider',\n",
              " 'a',\n",
              " 'hypothetical',\n",
              " 'web',\n",
              " 'surfer',\n",
              " 'who',\n",
              " 'travels',\n",
              " 'across',\n",
              " 'the',\n",
              " 'internet',\n",
              " 'moving',\n",
              " 'from',\n",
              " 'page',\n",
              " 'to',\n",
              " 'page',\n",
              " 'at',\n",
              " 'random.',\n",
              " 'When',\n",
              " 'the',\n",
              " 'surfer',\n",
              " 'is',\n",
              " 'on',\n",
              " 'a',\n",
              " 'particular',\n",
              " 'web',\n",
              " 'page,',\n",
              " 'they',\n",
              " 'pick',\n",
              " 'one',\n",
              " 'of',\n",
              " 'the',\n",
              " 'available',\n",
              " 'hypertext',\n",
              " 'links',\n",
              " 'on',\n",
              " 'that',\n",
              " 'page',\n",
              " 'uniformly',\n",
              " 'at',\n",
              " 'random',\n",
              " 'and',\n",
              " 'then',\n",
              " 'move',\n",
              " 'to',\n",
              " 'that',\n",
              " 'page.']"
            ]
          },
          "metadata": {},
          "execution_count": 11
        }
      ]
    },
    {
      "cell_type": "markdown",
      "source": [
        "*¿Que problemas Identificas?*\n",
        "Podemos ver que en este caso ciertos simbolos y signos permanecen no toma como tal la palabra si no separa cada que encuentra un espacio\n",
        "\n",
        "*En este caso, ¿que palabras carecen de significado (stopwords) y deberiamos remover para mejorar la comprensión en futuros modelos.*\n",
        "todos los conectores como \"el\", \"la\", \"un\", son palabras que solo sirven para conectar verbos y acciones y solo sirven para dar contexto pero no tienen un significado como tal\n",
        "\n"
      ],
      "metadata": {
        "id": "C2gzAvIzKlil"
      }
    },
    {
      "cell_type": "markdown",
      "source": [
        "#  basada en expresiones regulares"
      ],
      "metadata": {
        "id": "1twmUXR9LWne"
      }
    },
    {
      "cell_type": "code",
      "source": [
        "#importacion de libreria de expresiones regulares y la impresion de palabras\n",
        "#por una expresion regular\n",
        "import re\n",
        "display(re.findall(r'\\b\\w+\\b',text))"
      ],
      "metadata": {
        "colab": {
          "base_uri": "https://localhost:8080/",
          "height": 1000
        },
        "id": "-I7Upob1LY3N",
        "outputId": "ac028628-323e-4ea3-cf8d-cee6bca14893"
      },
      "execution_count": null,
      "outputs": [
        {
          "output_type": "display_data",
          "data": {
            "text/plain": [
              "['The',\n",
              " 'power',\n",
              " 'of',\n",
              " 'internet',\n",
              " 'search',\n",
              " 'engines',\n",
              " 'lies',\n",
              " 'in',\n",
              " 'their',\n",
              " 'ability',\n",
              " 'to',\n",
              " 'respond',\n",
              " 'to',\n",
              " 'a',\n",
              " 'user',\n",
              " 's',\n",
              " 'query',\n",
              " 'with',\n",
              " 'an',\n",
              " 'ordered',\n",
              " 'list',\n",
              " 'of',\n",
              " 'web',\n",
              " 'sites',\n",
              " 'ranked',\n",
              " 'by',\n",
              " 'importance',\n",
              " 'and',\n",
              " 'relevance',\n",
              " 'The',\n",
              " 'heart',\n",
              " 'of',\n",
              " 'Google',\n",
              " 's',\n",
              " 'search',\n",
              " 'engine',\n",
              " 'is',\n",
              " 'the',\n",
              " 'PageRank',\n",
              " 'algorithm',\n",
              " 'which',\n",
              " 'assigns',\n",
              " 'an',\n",
              " 'importance',\n",
              " 'value',\n",
              " 'to',\n",
              " 'each',\n",
              " 'web',\n",
              " 'page',\n",
              " 'called',\n",
              " 'its',\n",
              " 'page',\n",
              " 'rank',\n",
              " 'The',\n",
              " 'algorithm',\n",
              " 'is',\n",
              " 'remarkable',\n",
              " 'given',\n",
              " 'the',\n",
              " 'massiveness',\n",
              " 'of',\n",
              " 'the',\n",
              " 'web',\n",
              " 'with',\n",
              " 'over',\n",
              " 'one',\n",
              " 'trillion',\n",
              " 'web',\n",
              " 'pages',\n",
              " 'and',\n",
              " 'is',\n",
              " 'an',\n",
              " 'impressive',\n",
              " 'achievement',\n",
              " 'of',\n",
              " 'mathematics',\n",
              " 'particularly',\n",
              " 'linear',\n",
              " 'algebra',\n",
              " 'Although',\n",
              " 'the',\n",
              " 'actual',\n",
              " 'PageRank',\n",
              " 'algorithm',\n",
              " 'is',\n",
              " 'complex',\n",
              " 'with',\n",
              " 'many',\n",
              " 'technical',\n",
              " 'and',\n",
              " 'secret',\n",
              " 'details',\n",
              " 'the',\n",
              " 'page',\n",
              " 'rank',\n",
              " 'of',\n",
              " 'a',\n",
              " 'particular',\n",
              " 'web',\n",
              " 'page',\n",
              " 'is',\n",
              " 'easily',\n",
              " 'described',\n",
              " 'by',\n",
              " 'means',\n",
              " 'of',\n",
              " 'a',\n",
              " 'stochastic',\n",
              " 'model',\n",
              " 'Consider',\n",
              " 'a',\n",
              " 'hypothetical',\n",
              " 'web',\n",
              " 'surfer',\n",
              " 'who',\n",
              " 'travels',\n",
              " 'across',\n",
              " 'the',\n",
              " 'internet',\n",
              " 'moving',\n",
              " 'from',\n",
              " 'page',\n",
              " 'to',\n",
              " 'page',\n",
              " 'at',\n",
              " 'random',\n",
              " 'When',\n",
              " 'the',\n",
              " 'surfer',\n",
              " 'is',\n",
              " 'on',\n",
              " 'a',\n",
              " 'particular',\n",
              " 'web',\n",
              " 'page',\n",
              " 'they',\n",
              " 'pick',\n",
              " 'one',\n",
              " 'of',\n",
              " 'the',\n",
              " 'available',\n",
              " 'hypertext',\n",
              " 'links',\n",
              " 'on',\n",
              " 'that',\n",
              " 'page',\n",
              " 'uniformly',\n",
              " 'at',\n",
              " 'random',\n",
              " 'and',\n",
              " 'then',\n",
              " 'move',\n",
              " 'to',\n",
              " 'that',\n",
              " 'page']"
            ]
          },
          "metadata": {}
        }
      ]
    },
    {
      "cell_type": "markdown",
      "source": [
        "*¿En este caso la tokenizacion fue mejor, peor?*\n",
        "\n",
        "A primera instancia se puede ver que cada uno tiene sus pros y contras y dependen mucho del corpus de texto que pasemos en cada uno, los signos y simbolos especiales hacen que estos textos se separen o que incluso se muestren diferentes al tokenizar haciendo que su comprension sea mas comnpleja"
      ],
      "metadata": {
        "id": "I90XgQedMtxW"
      }
    },
    {
      "cell_type": "markdown",
      "source": [
        "# Tokenizacion Usando NLTK"
      ],
      "metadata": {
        "id": "1l0byxC0NIcN"
      }
    },
    {
      "cell_type": "code",
      "source": [
        "#Importacion y descarga de la libreria\n",
        "import nltk\n",
        "nltk.download('punkt_tab')\n",
        "from nltk.tokenize import word_tokenize"
      ],
      "metadata": {
        "colab": {
          "base_uri": "https://localhost:8080/"
        },
        "id": "9oltW-jKLrmN",
        "outputId": "a29e19e4-d57c-41a8-f20e-c0c6995fc414"
      },
      "execution_count": null,
      "outputs": [
        {
          "output_type": "stream",
          "name": "stderr",
          "text": [
            "[nltk_data] Downloading package punkt_tab to /root/nltk_data...\n",
            "[nltk_data]   Unzipping tokenizers/punkt_tab.zip.\n"
          ]
        }
      ]
    },
    {
      "cell_type": "code",
      "source": [
        "#Separacion por palabras con NLTK\n",
        "display(word_tokenize(text))"
      ],
      "metadata": {
        "colab": {
          "base_uri": "https://localhost:8080/",
          "height": 1000
        },
        "id": "knCWi10bNNpM",
        "outputId": "292309cd-fe7b-416c-a4c0-99ca66bacc81"
      },
      "execution_count": null,
      "outputs": [
        {
          "output_type": "display_data",
          "data": {
            "text/plain": [
              "['The',\n",
              " 'power',\n",
              " 'of',\n",
              " 'internet',\n",
              " 'search',\n",
              " 'engines',\n",
              " 'lies',\n",
              " 'in',\n",
              " 'their',\n",
              " 'ability',\n",
              " 'to',\n",
              " 'respond',\n",
              " 'to',\n",
              " 'a',\n",
              " 'user',\n",
              " '’',\n",
              " 's',\n",
              " 'query',\n",
              " 'with',\n",
              " 'an',\n",
              " 'ordered',\n",
              " 'list',\n",
              " 'of',\n",
              " 'web',\n",
              " 'sites',\n",
              " 'ranked',\n",
              " 'by',\n",
              " 'importance',\n",
              " 'and',\n",
              " 'relevance',\n",
              " '.',\n",
              " 'The',\n",
              " 'heart',\n",
              " 'of',\n",
              " 'Google',\n",
              " '’',\n",
              " 's',\n",
              " 'search',\n",
              " 'engine',\n",
              " 'is',\n",
              " 'the',\n",
              " 'PageRank',\n",
              " 'algorithm',\n",
              " ',',\n",
              " 'which',\n",
              " 'assigns',\n",
              " 'an',\n",
              " 'importance',\n",
              " 'value',\n",
              " 'to',\n",
              " 'each',\n",
              " 'web',\n",
              " 'page',\n",
              " ',',\n",
              " 'called',\n",
              " 'its',\n",
              " 'page',\n",
              " 'rank',\n",
              " '.',\n",
              " 'The',\n",
              " 'algorithm',\n",
              " 'is',\n",
              " 'remarkable',\n",
              " 'given',\n",
              " 'the',\n",
              " 'massiveness',\n",
              " 'of',\n",
              " 'the',\n",
              " 'web',\n",
              " 'with',\n",
              " 'over',\n",
              " 'one',\n",
              " 'trillion',\n",
              " 'web',\n",
              " 'pages',\n",
              " ',',\n",
              " 'and',\n",
              " 'is',\n",
              " 'an',\n",
              " 'impressive',\n",
              " 'achievement',\n",
              " 'of',\n",
              " 'mathematics',\n",
              " ',',\n",
              " 'particularly',\n",
              " 'linear',\n",
              " 'algebra',\n",
              " '.',\n",
              " 'Although',\n",
              " 'the',\n",
              " 'actual',\n",
              " 'PageRank',\n",
              " 'algorithm',\n",
              " 'is',\n",
              " 'complex',\n",
              " 'with',\n",
              " 'many',\n",
              " 'technical',\n",
              " '(',\n",
              " 'and',\n",
              " 'secret',\n",
              " ')',\n",
              " 'details',\n",
              " ',',\n",
              " 'the',\n",
              " 'page',\n",
              " 'rank',\n",
              " 'of',\n",
              " 'a',\n",
              " 'particular',\n",
              " 'web',\n",
              " 'page',\n",
              " 'is',\n",
              " 'easily',\n",
              " 'described',\n",
              " 'by',\n",
              " 'means',\n",
              " 'of',\n",
              " 'a',\n",
              " 'stochastic',\n",
              " 'model',\n",
              " '.',\n",
              " 'Consider',\n",
              " 'a',\n",
              " 'hypothetical',\n",
              " 'web',\n",
              " 'surfer',\n",
              " 'who',\n",
              " 'travels',\n",
              " 'across',\n",
              " 'the',\n",
              " 'internet',\n",
              " 'moving',\n",
              " 'from',\n",
              " 'page',\n",
              " 'to',\n",
              " 'page',\n",
              " 'at',\n",
              " 'random',\n",
              " '.',\n",
              " 'When',\n",
              " 'the',\n",
              " 'surfer',\n",
              " 'is',\n",
              " 'on',\n",
              " 'a',\n",
              " 'particular',\n",
              " 'web',\n",
              " 'page',\n",
              " ',',\n",
              " 'they',\n",
              " 'pick',\n",
              " 'one',\n",
              " 'of',\n",
              " 'the',\n",
              " 'available',\n",
              " 'hypertext',\n",
              " 'links',\n",
              " 'on',\n",
              " 'that',\n",
              " 'page',\n",
              " 'uniformly',\n",
              " 'at',\n",
              " 'random',\n",
              " 'and',\n",
              " 'then',\n",
              " 'move',\n",
              " 'to',\n",
              " 'that',\n",
              " 'page',\n",
              " '.']"
            ]
          },
          "metadata": {}
        }
      ]
    },
    {
      "cell_type": "markdown",
      "source": [
        "# **Tokenizacion de Oraciones**\n",
        "# Basada en Reglas con Regex"
      ],
      "metadata": {
        "id": "BmiBzeb-N3m3"
      }
    },
    {
      "cell_type": "code",
      "source": [
        "#Separacion con expresiones regulares y el uso de split para oraciones, el corte\n",
        "#se definio por los simbolos \"-\", \"?\" y \"!\"\n",
        "display(re.split(r'(?<=[.!?]) +',text))"
      ],
      "metadata": {
        "colab": {
          "base_uri": "https://localhost:8080/",
          "height": 173
        },
        "id": "FYnGolqtNWiY",
        "outputId": "96a0ede6-c156-48e4-d02b-717bfeac2cdb"
      },
      "execution_count": null,
      "outputs": [
        {
          "output_type": "display_data",
          "data": {
            "text/plain": [
              "['The power of internet search engines lies in their ability to respond to a user’s query with an ordered list of web sites ranked by importance and relevance.',\n",
              " 'The heart of Google’s search engine is the PageRank algorithm, which assigns an importance value to each web page, called its page rank.',\n",
              " 'The algorithm is remarkable given the massiveness of the web with over one trillion web pages, and is an impressive achievement of mathematics, particularly linear algebra.',\n",
              " 'Although the actual PageRank algorithm is complex with many technical (and secret) details, the page rank of a particular web page is easily described by means of a stochastic model.',\n",
              " 'Consider a hypothetical web surfer who travels across the internet moving from page to page at random.',\n",
              " 'When the surfer is on a particular web page, they pick one of the available hypertext links on that page uniformly at random and then move to that page.']"
            ]
          },
          "metadata": {}
        }
      ]
    },
    {
      "cell_type": "markdown",
      "source": [
        "*¿En qué casos preferirías expresiones regulares?*\n",
        "\n",
        "Dependeria del tipo de texto que se maneje porque se pueden filtrar ciertos caracteres o sustituir con expresiones regulares\n",
        "\n",
        "*¿En que casos expresiones regulares no es la mejor opción?*\n",
        "\n",
        "cuando se manejan varios simbolos porque en este caso no siempre seria lo mejor para el contexto de ese texto, depende que estemos analizando y el objetivo\n",
        "\n",
        "*¿Se puede modificar la exprexión para dividir un texto en líneas o párrafos?¿como?*\n",
        "\n",
        "si se puede, en este caso la expresion regular de separacion se usa la sintaxis con reglas regex en este caso menciono que podemos usar \"?=<\" para verificar en las expresiones regulares que estan antes o despues y separar los parrafos, y despues entre corchetes mencionamos nuestros valores a considerar para separar el texto.\n"
      ],
      "metadata": {
        "id": "wMC72w0lOl6v"
      }
    },
    {
      "cell_type": "markdown",
      "source": [
        "# Tokenización de oraciones NLTK\n"
      ],
      "metadata": {
        "id": "aIsevRSK6uxG"
      }
    },
    {
      "cell_type": "code",
      "source": [
        "#Importacion y descarga de NLTK\n",
        "import nltk\n",
        "nltk.download('punkt')\n",
        "from nltk.tokenize import sent_tokenize"
      ],
      "metadata": {
        "colab": {
          "base_uri": "https://localhost:8080/"
        },
        "id": "LEIlF3mJ7VD1",
        "outputId": "38cdfd0c-ea41-4010-9b04-027ffbe46186"
      },
      "execution_count": null,
      "outputs": [
        {
          "output_type": "stream",
          "name": "stderr",
          "text": [
            "[nltk_data] Downloading package punkt to /root/nltk_data...\n",
            "[nltk_data]   Unzipping tokenizers/punkt.zip.\n"
          ]
        }
      ]
    },
    {
      "cell_type": "code",
      "source": [
        "\n",
        "display(sent_tokenize(text))"
      ],
      "metadata": {
        "colab": {
          "base_uri": "https://localhost:8080/",
          "height": 173
        },
        "id": "AVnF_bsR474M",
        "outputId": "910e22d2-3ba0-4435-8e3c-025c307e4f5f"
      },
      "execution_count": null,
      "outputs": [
        {
          "output_type": "display_data",
          "data": {
            "text/plain": [
              "['The power of internet search engines lies in their ability to respond to a user’s query with an ordered list of web sites ranked by importance and relevance.',\n",
              " 'The heart of Google’s search engine is the PageRank algorithm, which assigns an importance value to each web page, called its page rank.',\n",
              " 'The algorithm is remarkable given the massiveness of the web with over one trillion web pages, and is an impressive achievement of mathematics, particularly linear algebra.',\n",
              " 'Although the actual PageRank algorithm is complex with many technical (and secret) details, the page rank of a particular web page is easily described by means of a stochastic model.',\n",
              " 'Consider a hypothetical web surfer who travels across the internet moving from page to page at random.',\n",
              " 'When the surfer is on a particular web page, they pick one of the available hypertext links on that page uniformly at random and then move to that page.']"
            ]
          },
          "metadata": {}
        }
      ]
    },
    {
      "cell_type": "code",
      "source": [
        "#igual que el anterior caso separa pero la liberia esta ya definida su forma de\n",
        "#separacion pero en el caso del texto es en ingles entonces se selecciona su tonkenize\n",
        "tokenizer_en = nltk.data.load('tokenizers/punkt/english.pickle')"
      ],
      "metadata": {
        "id": "AJUnQ5Vp7adg"
      },
      "execution_count": null,
      "outputs": []
    },
    {
      "cell_type": "code",
      "source": [
        "display(tokenizer_en.tokenize(text))"
      ],
      "metadata": {
        "colab": {
          "base_uri": "https://localhost:8080/",
          "height": 173
        },
        "id": "EzaPNMr47dk1",
        "outputId": "4d4f92b0-8ad8-4017-90d4-e8f7f08a8e0a"
      },
      "execution_count": null,
      "outputs": [
        {
          "output_type": "display_data",
          "data": {
            "text/plain": [
              "['The power of internet search engines lies in their ability to respond to a user’s query with an ordered list of web sites ranked by importance and relevance.',\n",
              " 'The heart of Google’s search engine is the PageRank algorithm, which assigns an importance value to each web page, called its page rank.',\n",
              " 'The algorithm is remarkable given the massiveness of the web with over one trillion web pages, and is an impressive achievement of mathematics, particularly linear algebra.',\n",
              " 'Although the actual PageRank algorithm is complex with many technical (and secret) details, the page rank of a particular web page is easily described by means of a stochastic model.',\n",
              " 'Consider a hypothetical web surfer who travels across the internet moving from page to page at random.',\n",
              " 'When the surfer is on a particular web page, they pick one of the available hypertext links on that page uniformly at random and then move to that page.']"
            ]
          },
          "metadata": {}
        }
      ]
    },
    {
      "cell_type": "markdown",
      "source": [
        "# Tokenización con SpaCy"
      ],
      "metadata": {
        "id": "oNzJ7p_E7l1G"
      }
    },
    {
      "cell_type": "code",
      "source": [
        "#Importacion de spacy y descarga de su core\n",
        "import spacy\n",
        "!python -m spacy download es_core_news_sm\n",
        "nlp = spacy.load(\"es_core_news_sm\")"
      ],
      "metadata": {
        "colab": {
          "base_uri": "https://localhost:8080/"
        },
        "id": "TvhsBSbK7lVi",
        "outputId": "e10a440d-1b6c-456b-db66-21d9f09550a6",
        "collapsed": true
      },
      "execution_count": null,
      "outputs": [
        {
          "output_type": "stream",
          "name": "stdout",
          "text": [
            "Collecting es-core-news-sm==3.7.0\n",
            "  Downloading https://github.com/explosion/spacy-models/releases/download/es_core_news_sm-3.7.0/es_core_news_sm-3.7.0-py3-none-any.whl (12.9 MB)\n",
            "\u001b[2K     \u001b[90m━━━━━━━━━━━━━━━━━━━━━━━━━━━━━━━━━━━━━━━━\u001b[0m \u001b[32m12.9/12.9 MB\u001b[0m \u001b[31m63.6 MB/s\u001b[0m eta \u001b[36m0:00:00\u001b[0m\n",
            "\u001b[?25hRequirement already satisfied: spacy<3.8.0,>=3.7.0 in /usr/local/lib/python3.11/dist-packages (from es-core-news-sm==3.7.0) (3.7.5)\n",
            "Requirement already satisfied: spacy-legacy<3.1.0,>=3.0.11 in /usr/local/lib/python3.11/dist-packages (from spacy<3.8.0,>=3.7.0->es-core-news-sm==3.7.0) (3.0.12)\n",
            "Requirement already satisfied: spacy-loggers<2.0.0,>=1.0.0 in /usr/local/lib/python3.11/dist-packages (from spacy<3.8.0,>=3.7.0->es-core-news-sm==3.7.0) (1.0.5)\n",
            "Requirement already satisfied: murmurhash<1.1.0,>=0.28.0 in /usr/local/lib/python3.11/dist-packages (from spacy<3.8.0,>=3.7.0->es-core-news-sm==3.7.0) (1.0.12)\n",
            "Requirement already satisfied: cymem<2.1.0,>=2.0.2 in /usr/local/lib/python3.11/dist-packages (from spacy<3.8.0,>=3.7.0->es-core-news-sm==3.7.0) (2.0.11)\n",
            "Requirement already satisfied: preshed<3.1.0,>=3.0.2 in /usr/local/lib/python3.11/dist-packages (from spacy<3.8.0,>=3.7.0->es-core-news-sm==3.7.0) (3.0.9)\n",
            "Requirement already satisfied: thinc<8.3.0,>=8.2.2 in /usr/local/lib/python3.11/dist-packages (from spacy<3.8.0,>=3.7.0->es-core-news-sm==3.7.0) (8.2.5)\n",
            "Requirement already satisfied: wasabi<1.2.0,>=0.9.1 in /usr/local/lib/python3.11/dist-packages (from spacy<3.8.0,>=3.7.0->es-core-news-sm==3.7.0) (1.1.3)\n",
            "Requirement already satisfied: srsly<3.0.0,>=2.4.3 in /usr/local/lib/python3.11/dist-packages (from spacy<3.8.0,>=3.7.0->es-core-news-sm==3.7.0) (2.5.1)\n",
            "Requirement already satisfied: catalogue<2.1.0,>=2.0.6 in /usr/local/lib/python3.11/dist-packages (from spacy<3.8.0,>=3.7.0->es-core-news-sm==3.7.0) (2.0.10)\n",
            "Requirement already satisfied: weasel<0.5.0,>=0.1.0 in /usr/local/lib/python3.11/dist-packages (from spacy<3.8.0,>=3.7.0->es-core-news-sm==3.7.0) (0.4.1)\n",
            "Requirement already satisfied: typer<1.0.0,>=0.3.0 in /usr/local/lib/python3.11/dist-packages (from spacy<3.8.0,>=3.7.0->es-core-news-sm==3.7.0) (0.15.1)\n",
            "Requirement already satisfied: tqdm<5.0.0,>=4.38.0 in /usr/local/lib/python3.11/dist-packages (from spacy<3.8.0,>=3.7.0->es-core-news-sm==3.7.0) (4.67.1)\n",
            "Requirement already satisfied: requests<3.0.0,>=2.13.0 in /usr/local/lib/python3.11/dist-packages (from spacy<3.8.0,>=3.7.0->es-core-news-sm==3.7.0) (2.32.3)\n",
            "Requirement already satisfied: pydantic!=1.8,!=1.8.1,<3.0.0,>=1.7.4 in /usr/local/lib/python3.11/dist-packages (from spacy<3.8.0,>=3.7.0->es-core-news-sm==3.7.0) (2.10.6)\n",
            "Requirement already satisfied: jinja2 in /usr/local/lib/python3.11/dist-packages (from spacy<3.8.0,>=3.7.0->es-core-news-sm==3.7.0) (3.1.5)\n",
            "Requirement already satisfied: setuptools in /usr/local/lib/python3.11/dist-packages (from spacy<3.8.0,>=3.7.0->es-core-news-sm==3.7.0) (75.1.0)\n",
            "Requirement already satisfied: packaging>=20.0 in /usr/local/lib/python3.11/dist-packages (from spacy<3.8.0,>=3.7.0->es-core-news-sm==3.7.0) (24.2)\n",
            "Requirement already satisfied: langcodes<4.0.0,>=3.2.0 in /usr/local/lib/python3.11/dist-packages (from spacy<3.8.0,>=3.7.0->es-core-news-sm==3.7.0) (3.5.0)\n",
            "Requirement already satisfied: numpy>=1.19.0 in /usr/local/lib/python3.11/dist-packages (from spacy<3.8.0,>=3.7.0->es-core-news-sm==3.7.0) (1.26.4)\n",
            "Requirement already satisfied: language-data>=1.2 in /usr/local/lib/python3.11/dist-packages (from langcodes<4.0.0,>=3.2.0->spacy<3.8.0,>=3.7.0->es-core-news-sm==3.7.0) (1.3.0)\n",
            "Requirement already satisfied: annotated-types>=0.6.0 in /usr/local/lib/python3.11/dist-packages (from pydantic!=1.8,!=1.8.1,<3.0.0,>=1.7.4->spacy<3.8.0,>=3.7.0->es-core-news-sm==3.7.0) (0.7.0)\n",
            "Requirement already satisfied: pydantic-core==2.27.2 in /usr/local/lib/python3.11/dist-packages (from pydantic!=1.8,!=1.8.1,<3.0.0,>=1.7.4->spacy<3.8.0,>=3.7.0->es-core-news-sm==3.7.0) (2.27.2)\n",
            "Requirement already satisfied: typing-extensions>=4.12.2 in /usr/local/lib/python3.11/dist-packages (from pydantic!=1.8,!=1.8.1,<3.0.0,>=1.7.4->spacy<3.8.0,>=3.7.0->es-core-news-sm==3.7.0) (4.12.2)\n",
            "Requirement already satisfied: charset-normalizer<4,>=2 in /usr/local/lib/python3.11/dist-packages (from requests<3.0.0,>=2.13.0->spacy<3.8.0,>=3.7.0->es-core-news-sm==3.7.0) (3.4.1)\n",
            "Requirement already satisfied: idna<4,>=2.5 in /usr/local/lib/python3.11/dist-packages (from requests<3.0.0,>=2.13.0->spacy<3.8.0,>=3.7.0->es-core-news-sm==3.7.0) (3.10)\n",
            "Requirement already satisfied: urllib3<3,>=1.21.1 in /usr/local/lib/python3.11/dist-packages (from requests<3.0.0,>=2.13.0->spacy<3.8.0,>=3.7.0->es-core-news-sm==3.7.0) (2.3.0)\n",
            "Requirement already satisfied: certifi>=2017.4.17 in /usr/local/lib/python3.11/dist-packages (from requests<3.0.0,>=2.13.0->spacy<3.8.0,>=3.7.0->es-core-news-sm==3.7.0) (2025.1.31)\n",
            "Requirement already satisfied: blis<0.8.0,>=0.7.8 in /usr/local/lib/python3.11/dist-packages (from thinc<8.3.0,>=8.2.2->spacy<3.8.0,>=3.7.0->es-core-news-sm==3.7.0) (0.7.11)\n",
            "Requirement already satisfied: confection<1.0.0,>=0.0.1 in /usr/local/lib/python3.11/dist-packages (from thinc<8.3.0,>=8.2.2->spacy<3.8.0,>=3.7.0->es-core-news-sm==3.7.0) (0.1.5)\n",
            "Requirement already satisfied: click>=8.0.0 in /usr/local/lib/python3.11/dist-packages (from typer<1.0.0,>=0.3.0->spacy<3.8.0,>=3.7.0->es-core-news-sm==3.7.0) (8.1.8)\n",
            "Requirement already satisfied: shellingham>=1.3.0 in /usr/local/lib/python3.11/dist-packages (from typer<1.0.0,>=0.3.0->spacy<3.8.0,>=3.7.0->es-core-news-sm==3.7.0) (1.5.4)\n",
            "Requirement already satisfied: rich>=10.11.0 in /usr/local/lib/python3.11/dist-packages (from typer<1.0.0,>=0.3.0->spacy<3.8.0,>=3.7.0->es-core-news-sm==3.7.0) (13.9.4)\n",
            "Requirement already satisfied: cloudpathlib<1.0.0,>=0.7.0 in /usr/local/lib/python3.11/dist-packages (from weasel<0.5.0,>=0.1.0->spacy<3.8.0,>=3.7.0->es-core-news-sm==3.7.0) (0.20.0)\n",
            "Requirement already satisfied: smart-open<8.0.0,>=5.2.1 in /usr/local/lib/python3.11/dist-packages (from weasel<0.5.0,>=0.1.0->spacy<3.8.0,>=3.7.0->es-core-news-sm==3.7.0) (7.1.0)\n",
            "Requirement already satisfied: MarkupSafe>=2.0 in /usr/local/lib/python3.11/dist-packages (from jinja2->spacy<3.8.0,>=3.7.0->es-core-news-sm==3.7.0) (3.0.2)\n",
            "Requirement already satisfied: marisa-trie>=1.1.0 in /usr/local/lib/python3.11/dist-packages (from language-data>=1.2->langcodes<4.0.0,>=3.2.0->spacy<3.8.0,>=3.7.0->es-core-news-sm==3.7.0) (1.2.1)\n",
            "Requirement already satisfied: markdown-it-py>=2.2.0 in /usr/local/lib/python3.11/dist-packages (from rich>=10.11.0->typer<1.0.0,>=0.3.0->spacy<3.8.0,>=3.7.0->es-core-news-sm==3.7.0) (3.0.0)\n",
            "Requirement already satisfied: pygments<3.0.0,>=2.13.0 in /usr/local/lib/python3.11/dist-packages (from rich>=10.11.0->typer<1.0.0,>=0.3.0->spacy<3.8.0,>=3.7.0->es-core-news-sm==3.7.0) (2.18.0)\n",
            "Requirement already satisfied: wrapt in /usr/local/lib/python3.11/dist-packages (from smart-open<8.0.0,>=5.2.1->weasel<0.5.0,>=0.1.0->spacy<3.8.0,>=3.7.0->es-core-news-sm==3.7.0) (1.17.2)\n",
            "Requirement already satisfied: mdurl~=0.1 in /usr/local/lib/python3.11/dist-packages (from markdown-it-py>=2.2.0->rich>=10.11.0->typer<1.0.0,>=0.3.0->spacy<3.8.0,>=3.7.0->es-core-news-sm==3.7.0) (0.1.2)\n",
            "Installing collected packages: es-core-news-sm\n",
            "Successfully installed es-core-news-sm-3.7.0\n",
            "\u001b[38;5;2m✔ Download and installation successful\u001b[0m\n",
            "You can now load the package via spacy.load('es_core_news_sm')\n",
            "\u001b[38;5;3m⚠ Restart to reload dependencies\u001b[0m\n",
            "If you are in a Jupyter or Colab notebook, you may need to restart Python in\n",
            "order to load all the package's dependencies. You can do this by selecting the\n",
            "'Restart kernel' or 'Restart runtime' option.\n"
          ]
        }
      ]
    },
    {
      "cell_type": "code",
      "source": [
        "#el core fue asignado a la variable que funciona como funcion \"nlp\" entonces este\n",
        "#se encarga de hacer la misma separacion del texto\n",
        "doc=nlp(text)\n",
        "display([f\"Oración {i}: {sent.text}\" for i, sent in enumerate(doc.sents, 1)])"
      ],
      "metadata": {
        "colab": {
          "base_uri": "https://localhost:8080/",
          "height": 191
        },
        "id": "QDhYKu7X9nBv",
        "outputId": "72caa695-5367-433c-834d-f0dd3dadbd8d"
      },
      "execution_count": null,
      "outputs": [
        {
          "output_type": "display_data",
          "data": {
            "text/plain": [
              "['Oración 1: The power of internet search engines lies in their ability to respond to a user’s query with an ordered list of web sites ranked by importance and relevance.',\n",
              " 'Oración 2: The heart of Google’s search engine is the PageRank algorithm, which assigns an importance value to each web page, called its page rank.',\n",
              " 'Oración 3: The algorithm is remarkable given the massiveness of the web with over one trillion web pages, and is an impressive achievement of mathematics, particularly linear algebra.',\n",
              " 'Oración 4: Although the actual PageRank algorithm is complex with many technical (and secret) details, the page rank of a particular web page is easily described by means of a stochastic model.',\n",
              " 'Oración 5: Consider a hypothetical web surfer who travels across the internet moving from page to page at random.',\n",
              " 'Oración 6: When the surfer is on a particular web page, they pick one of the available hypertext links on that page uniformly at random and then move to that page.']"
            ]
          },
          "metadata": {}
        }
      ]
    },
    {
      "cell_type": "markdown",
      "source": [
        "*Que ventajas observas de este metodo.*\n",
        "\n",
        "La libreria se siente que separa de un modo mas comodo y simple\n",
        "\n",
        "*Analiza qué pasa si el texto NO tiene puntos.*\n",
        "\n",
        "Si varias de las oraciones le quitamos los puntos junta digamos por ejemplo el 2 con el 3 si al final en \"page rank.\" se quitara ese ultumo punto solo serian 5 oraciones\n",
        "\n",
        "*Prueba con textos diferentes, que incluyan abreviaciones y analiza los resultados.*\n",
        "\n",
        "es lo mismo si tienen abreviaciones con punto final los usa como separacion."
      ],
      "metadata": {
        "id": "ZTZqueANdYF4"
      }
    },
    {
      "cell_type": "markdown",
      "source": [
        "# **Ejercicio 1:**\n",
        "Genera un pequeño analisis sobre la tokenizacion basada en espacios, mostrando la frecuencia de palabras en el texto de ejemplo. Puedes observar el resultado en una tabla o grafico de barras.\n"
      ],
      "metadata": {
        "id": "_5cgIyaOeCZP"
      }
    },
    {
      "cell_type": "markdown",
      "source": [
        "# **Analisis del texto**\n",
        "\n",
        "\n",
        "\n",
        "\n"
      ],
      "metadata": {
        "id": "6b_gO8_EeKn3"
      }
    },
    {
      "cell_type": "code",
      "source": [
        "#importacion para graficas\n",
        "import matplotlib.pyplot as plt\n",
        "\n",
        "#separacion por palabras de forma simple y analisis contando las palabras en un\n",
        "#ciclo para que este vea la frecuencia de las palabras\n",
        "tokens=text.split()\n",
        "frecuencia = {}\n",
        "for palabra in tokens:\n",
        "  if palabra in frecuencia:\n",
        "    frecuencia[palabra] += 1\n",
        "  else:\n",
        "    frecuencia[palabra] = 1\n",
        "\n",
        "print(\"Tabla de Frecuencia de Palabras:\")\n",
        "display(frecuencia)"
      ],
      "metadata": {
        "colab": {
          "base_uri": "https://localhost:8080/",
          "height": 1000
        },
        "collapsed": true,
        "id": "x5Ws1njgeJZv",
        "outputId": "0a6fa703-8e25-472e-f297-c6d1042fb70f"
      },
      "execution_count": null,
      "outputs": [
        {
          "output_type": "stream",
          "name": "stdout",
          "text": [
            "Tabla de Frecuencia de Palabras:\n"
          ]
        },
        {
          "output_type": "display_data",
          "data": {
            "text/plain": [
              "{'The': 3,\n",
              " 'power': 1,\n",
              " 'of': 8,\n",
              " 'internet': 2,\n",
              " 'search': 2,\n",
              " 'engines': 1,\n",
              " 'lies': 1,\n",
              " 'in': 1,\n",
              " 'their': 1,\n",
              " 'ability': 1,\n",
              " 'to': 5,\n",
              " 'respond': 1,\n",
              " 'a': 5,\n",
              " 'user’s': 1,\n",
              " 'query': 1,\n",
              " 'with': 3,\n",
              " 'an': 3,\n",
              " 'ordered': 1,\n",
              " 'list': 1,\n",
              " 'web': 7,\n",
              " 'sites': 1,\n",
              " 'ranked': 1,\n",
              " 'by': 2,\n",
              " 'importance': 2,\n",
              " 'and': 3,\n",
              " 'relevance.': 1,\n",
              " 'heart': 1,\n",
              " 'Google’s': 1,\n",
              " 'engine': 1,\n",
              " 'is': 6,\n",
              " 'the': 8,\n",
              " 'PageRank': 2,\n",
              " 'algorithm,': 1,\n",
              " 'which': 1,\n",
              " 'assigns': 1,\n",
              " 'value': 1,\n",
              " 'each': 1,\n",
              " 'page,': 2,\n",
              " 'called': 1,\n",
              " 'its': 1,\n",
              " 'page': 6,\n",
              " 'rank.': 1,\n",
              " 'algorithm': 2,\n",
              " 'remarkable': 1,\n",
              " 'given': 1,\n",
              " 'massiveness': 1,\n",
              " 'over': 1,\n",
              " 'one': 2,\n",
              " 'trillion': 1,\n",
              " 'pages,': 1,\n",
              " 'impressive': 1,\n",
              " 'achievement': 1,\n",
              " 'mathematics,': 1,\n",
              " 'particularly': 1,\n",
              " 'linear': 1,\n",
              " 'algebra.': 1,\n",
              " 'Although': 1,\n",
              " 'actual': 1,\n",
              " 'complex': 1,\n",
              " 'many': 1,\n",
              " 'technical': 1,\n",
              " '(and': 1,\n",
              " 'secret)': 1,\n",
              " 'details,': 1,\n",
              " 'rank': 1,\n",
              " 'particular': 2,\n",
              " 'easily': 1,\n",
              " 'described': 1,\n",
              " 'means': 1,\n",
              " 'stochastic': 1,\n",
              " 'model.': 1,\n",
              " 'Consider': 1,\n",
              " 'hypothetical': 1,\n",
              " 'surfer': 2,\n",
              " 'who': 1,\n",
              " 'travels': 1,\n",
              " 'across': 1,\n",
              " 'moving': 1,\n",
              " 'from': 1,\n",
              " 'at': 2,\n",
              " 'random.': 1,\n",
              " 'When': 1,\n",
              " 'on': 2,\n",
              " 'they': 1,\n",
              " 'pick': 1,\n",
              " 'available': 1,\n",
              " 'hypertext': 1,\n",
              " 'links': 1,\n",
              " 'that': 2,\n",
              " 'uniformly': 1,\n",
              " 'random': 1,\n",
              " 'then': 1,\n",
              " 'move': 1,\n",
              " 'page.': 1}"
            ]
          },
          "metadata": {}
        }
      ]
    },
    {
      "cell_type": "code",
      "source": [
        "#el objetivo de graficar en este punto aparte de hacer un ordenamiento es para\n",
        "#que las palabras se visualicen con sentido al analisis, el objetivo fue ver\n",
        "#las palabras que se repetian mas entonces es mejor verlo de esta forma considerando\n",
        "#las 10 palabras mas usadas\n",
        "frecuencia_ordenada = sorted(frecuencia.items(), key=lambda x: x[1], reverse=True)\n",
        "top_palabras = frecuencia_ordenada[:10]\n",
        "palabras_top = [palabra for palabra, freq in top_palabras]\n",
        "frecuencias_top = [freq for palabra, freq in top_palabras]\n",
        "plt.figure(figsize=(10, 5))\n",
        "plt.bar(palabras_top, frecuencias_top, color='skyblue')\n",
        "plt.xlabel('Palabras')\n",
        "plt.ylabel('Frecuencia')\n",
        "plt.title('Top Palabras Más Frecuentes')\n",
        "plt.xticks(rotation=45)\n",
        "plt.tight_layout()\n",
        "plt.show()"
      ],
      "metadata": {
        "colab": {
          "base_uri": "https://localhost:8080/",
          "height": 507
        },
        "id": "7Tn26XKigqHk",
        "outputId": "2ab36b19-43cf-43d2-bab3-f1fb66d3c0d6"
      },
      "execution_count": null,
      "outputs": [
        {
          "output_type": "display_data",
          "data": {
            "text/plain": [
              "<Figure size 1000x500 with 1 Axes>"
            ],
            "image/png": "[encoded data removed]"
          },
          "metadata": {}
        }
      ]
    },
    {
      "cell_type": "markdown",
      "source": [
        "**¿Cuáles son las palabras más frecuentes y por qué?**\n",
        "\n",
        "En este caso solo son stopwords y algunas palabras claves del texto, en un top 10 de palabras se mostraron 7 palabras que son stopwords entonces no podemos entender del todo el texto\n",
        "\n",
        "**¿Te ayudan a identificar el topico central del texto?**\n",
        "\n",
        "ligeramente se da un contexto vago pero si limpiamos estas stopwords entonces podriamos simplificar\n",
        "\n",
        "**¿Que tipo de palabras encontraste con alta frecuencia?**\n",
        "\n",
        "La palabras del texto que tome solo son stopwords en ingles y 2 palabras que se relacionan con el texto, pero la mayoria son stopwords"
      ],
      "metadata": {
        "id": "mRRcbFzCVqt3"
      }
    },
    {
      "cell_type": "markdown",
      "source": [
        "# **Limpieza de stopwords**"
      ],
      "metadata": {
        "id": "q2nxOeBenLWp"
      }
    },
    {
      "cell_type": "code",
      "source": [
        "#en la libreria de nltk existe el apartado de corpus que nos permite entrar a las\n",
        "#stopwords y así quitar las palabras que no tienen sentido,\n",
        "import nltk\n",
        "from nltk.corpus import stopwords\n",
        "from nltk.tokenize import word_tokenize\n",
        "import string\n",
        "\n",
        "nltk.download('stopwords')\n",
        "nltk.download('punkt')"
      ],
      "metadata": {
        "colab": {
          "base_uri": "https://localhost:8080/"
        },
        "id": "yR7hCrGOVzFx",
        "outputId": "ccef1e93-c027-4f24-ae34-a0d36880854f"
      },
      "execution_count": null,
      "outputs": [
        {
          "output_type": "stream",
          "name": "stderr",
          "text": [
            "[nltk_data] Downloading package stopwords to /root/nltk_data...\n",
            "[nltk_data]   Unzipping corpora/stopwords.zip.\n",
            "[nltk_data] Downloading package punkt to /root/nltk_data...\n",
            "[nltk_data]   Package punkt is already up-to-date!\n"
          ]
        },
        {
          "output_type": "execute_result",
          "data": {
            "text/plain": [
              "True"
            ]
          },
          "metadata": {},
          "execution_count": 24
        }
      ]
    },
    {
      "cell_type": "code",
      "source": [
        "#Una vez descargardo el diccionario de stopwords podemos quitarlas del texto y\n",
        "#mostrar las palabras que \"tienen\" significado\n",
        "stop_words = set(stopwords.words('english'))\n",
        "tokens_filtrados = [palabra for palabra in tokens if palabra not in stop_words]\n",
        "print(\"Tokens filtrados:\", tokens_filtrados)"
      ],
      "metadata": {
        "colab": {
          "base_uri": "https://localhost:8080/"
        },
        "id": "T3vTb5MGh0nL",
        "outputId": "a72de286-4585-4777-8683-09c8e757e513"
      },
      "execution_count": null,
      "outputs": [
        {
          "output_type": "stream",
          "name": "stdout",
          "text": [
            "Tokens filtrados: ['The', 'power', 'internet', 'search', 'engines', 'lies', 'ability', 'respond', 'user’s', 'query', 'ordered', 'list', 'web', 'sites', 'ranked', 'importance', 'relevance.', 'The', 'heart', 'Google’s', 'search', 'engine', 'PageRank', 'algorithm,', 'assigns', 'importance', 'value', 'web', 'page,', 'called', 'page', 'rank.', 'The', 'algorithm', 'remarkable', 'given', 'massiveness', 'web', 'one', 'trillion', 'web', 'pages,', 'impressive', 'achievement', 'mathematics,', 'particularly', 'linear', 'algebra.', 'Although', 'actual', 'PageRank', 'algorithm', 'complex', 'many', 'technical', '(and', 'secret)', 'details,', 'page', 'rank', 'particular', 'web', 'page', 'easily', 'described', 'means', 'stochastic', 'model.', 'Consider', 'hypothetical', 'web', 'surfer', 'travels', 'across', 'internet', 'moving', 'page', 'page', 'random.', 'When', 'surfer', 'particular', 'web', 'page,', 'pick', 'one', 'available', 'hypertext', 'links', 'page', 'uniformly', 'random', 'move', 'page.']\n"
          ]
        }
      ]
    },
    {
      "cell_type": "code",
      "source": [
        "#volvemos a contar las palabras y ver la frecuencia\n",
        "frecuencia = {}\n",
        "for palabra in tokens_filtrados:\n",
        "  if palabra in frecuencia:\n",
        "    frecuencia[palabra] += 1\n",
        "  else:\n",
        "    frecuencia[palabra] = 1\n",
        "\n",
        "print(\"Tabla de Frecuencia de Palabras:\")\n",
        "display(frecuencia)"
      ],
      "metadata": {
        "colab": {
          "base_uri": "https://localhost:8080/",
          "height": 1000
        },
        "collapsed": true,
        "id": "B754SN9Hnbsu",
        "outputId": "945b73d5-e48a-4398-ecdd-4ff8315f2e74"
      },
      "execution_count": null,
      "outputs": [
        {
          "output_type": "stream",
          "name": "stdout",
          "text": [
            "Tabla de Frecuencia de Palabras:\n"
          ]
        },
        {
          "output_type": "display_data",
          "data": {
            "text/plain": [
              "{'The': 3,\n",
              " 'power': 1,\n",
              " 'internet': 2,\n",
              " 'search': 2,\n",
              " 'engines': 1,\n",
              " 'lies': 1,\n",
              " 'ability': 1,\n",
              " 'respond': 1,\n",
              " 'user’s': 1,\n",
              " 'query': 1,\n",
              " 'ordered': 1,\n",
              " 'list': 1,\n",
              " 'web': 7,\n",
              " 'sites': 1,\n",
              " 'ranked': 1,\n",
              " 'importance': 2,\n",
              " 'relevance.': 1,\n",
              " 'heart': 1,\n",
              " 'Google’s': 1,\n",
              " 'engine': 1,\n",
              " 'PageRank': 2,\n",
              " 'algorithm,': 1,\n",
              " 'assigns': 1,\n",
              " 'value': 1,\n",
              " 'page,': 2,\n",
              " 'called': 1,\n",
              " 'page': 6,\n",
              " 'rank.': 1,\n",
              " 'algorithm': 2,\n",
              " 'remarkable': 1,\n",
              " 'given': 1,\n",
              " 'massiveness': 1,\n",
              " 'one': 2,\n",
              " 'trillion': 1,\n",
              " 'pages,': 1,\n",
              " 'impressive': 1,\n",
              " 'achievement': 1,\n",
              " 'mathematics,': 1,\n",
              " 'particularly': 1,\n",
              " 'linear': 1,\n",
              " 'algebra.': 1,\n",
              " 'Although': 1,\n",
              " 'actual': 1,\n",
              " 'complex': 1,\n",
              " 'many': 1,\n",
              " 'technical': 1,\n",
              " '(and': 1,\n",
              " 'secret)': 1,\n",
              " 'details,': 1,\n",
              " 'rank': 1,\n",
              " 'particular': 2,\n",
              " 'easily': 1,\n",
              " 'described': 1,\n",
              " 'means': 1,\n",
              " 'stochastic': 1,\n",
              " 'model.': 1,\n",
              " 'Consider': 1,\n",
              " 'hypothetical': 1,\n",
              " 'surfer': 2,\n",
              " 'travels': 1,\n",
              " 'across': 1,\n",
              " 'moving': 1,\n",
              " 'random.': 1,\n",
              " 'When': 1,\n",
              " 'pick': 1,\n",
              " 'available': 1,\n",
              " 'hypertext': 1,\n",
              " 'links': 1,\n",
              " 'uniformly': 1,\n",
              " 'random': 1,\n",
              " 'move': 1,\n",
              " 'page.': 1}"
            ]
          },
          "metadata": {}
        }
      ]
    },
    {
      "cell_type": "code",
      "source": [
        "#mostramos las 10 palabras mas usadas sin stopwords\n",
        "frecuencia_ordenada = sorted(frecuencia.items(), key=lambda x: x[1], reverse=True)\n",
        "top_palabras = frecuencia_ordenada[:10]\n",
        "palabras_top = [palabra for palabra, freq in top_palabras]\n",
        "frecuencias_top = [freq for palabra, freq in top_palabras]\n",
        "plt.figure(figsize=(10, 5))\n",
        "plt.bar(palabras_top, frecuencias_top, color='skyblue')\n",
        "plt.xlabel('Palabras')\n",
        "plt.ylabel('Frecuencia')\n",
        "plt.title('Top Palabras Más Frecuentes')\n",
        "plt.xticks(rotation=45)\n",
        "plt.tight_layout()\n",
        "plt.show()"
      ],
      "metadata": {
        "colab": {
          "base_uri": "https://localhost:8080/",
          "height": 507
        },
        "id": "sniC_kjAi2rP",
        "outputId": "2252c7d1-b42f-4331-c799-24bae05a0910"
      },
      "execution_count": null,
      "outputs": [
        {
          "output_type": "display_data",
          "data": {
            "text/plain": [
              "<Figure size 1000x500 with 1 Axes>"
            ],
            "image/png": "[encoded data removed]"
          },
          "metadata": {}
        }
      ]
    },
    {
      "cell_type": "markdown",
      "source": [
        "**¿Cómo cambia la distribución si eliminamos palabras que carecen de significado (stopwords)?**\n",
        "\n",
        "Ahora despues de quitar las stopwords podemos apreciar mas los terminos entonces podemos ver que se centra mas el texto en temas de paginas web y solo porque no se normalizo el termino \"The\" entonces no lo ve como un stopword por la mayuscula, aun faltaria otro proceso\n",
        "\n",
        "**Si modificaramos el texto. ¿Qué impacto tendría el tamaño del corpus en la frecuencia de palabras?**\n",
        "\n",
        "Podria aumentar mas la cantidad de palabras, en este caso las frecuencias podrian tener mas coincidencias."
      ],
      "metadata": {
        "id": "SkP8b2Mbi2Zi"
      }
    },
    {
      "cell_type": "markdown",
      "source": [
        "**¿Si el texto es más grande, se espera que la distribución cambie?**\n",
        "\n",
        "Si llega a ser mas grande el texto entonces la distribucion cambiara esto debido a que si llega a hablar de otras cosas en el texto o si centra en otras palabras entonces es probable que cambie la distribucion.\n"
      ],
      "metadata": {
        "id": "0lTls7Zrh0Mx"
      }
    },
    {
      "cell_type": "markdown",
      "source": [
        "# **Caso de mas corpus de texto**\n"
      ],
      "metadata": {
        "id": "yfiP3cEstAIj"
      }
    },
    {
      "cell_type": "code",
      "source": [
        "#Si aumentamos el tamaño del cuerpo tendremos una distribucion distinta\n",
        "text2=(\"The power of internet search engines lies in their ability to respond to a user’s query with an ordered list of web sites ranked by importance and relevance. The heart of Google’s search engine is the PageRank algorithm, which assigns an importance value to each web page, called its page rank. The algorithm is remarkable given the massiveness of the web with over one trillion web pages, and is an impressive achievement of mathematics, particularly linear algebra. Although the actual PageRank algorithm is complex with many technical (and secret) details, the page rank of a particular web page is easily described by means of a stochastic model. Consider a hypothetical web surfer who travels across the internet moving from page to page at random. When the surfer is on a particular web page, they pick one of the available hypertext links on that page uniformly at random and then move to that page. The model can be described as a random walk by the web surfer on a giant graph called the webgraph. In the webgraph, vertices (nodes) are web pages. Vertex x is joined to vertex y by a directed edge if there is a hypertext link on page x that leads to page y. When the surfer is at vertex x, they choose an edge leading away from x uniformly at random from the set of available edges, and move to the vertex which that edge points to. The random surfer model is an example of a more general stochastic process called random walk on a graph. Imagine that the web surfer has been randomly walking across the web for a long, long time. What is the probability that the surfer will be at, say, page x? To make this more precise, let pk x denote the probability that the surfer is at page x after k steps. The long-term probability of being at page x is defined as lim k→∞ pk x. This long-term probability is precisely the page rank of page x. Intuitively, the long-term probability of being at a particular page will tend to be higher for pages with more incoming links and smaller for pages with few links, and is a measure of the importance, or popularity, of a page. The PageRank algorithm can be understood as an assignment of probabilities to each site on the web\")\n",
        "tokens=text2.split()\n",
        "frecuencia = {}\n",
        "stop_words = set(stopwords.words('english'))\n",
        "tokens_filtrados = [palabra for palabra in tokens if palabra not in stop_words]\n",
        "print(\"Tokens filtrados:\", tokens_filtrados)"
      ],
      "metadata": {
        "colab": {
          "base_uri": "https://localhost:8080/"
        },
        "collapsed": true,
        "id": "QRHxpX77tIhx",
        "outputId": "3eda39e6-462b-40b3-88e4-70b482fc2f2d"
      },
      "execution_count": null,
      "outputs": [
        {
          "output_type": "stream",
          "name": "stdout",
          "text": [
            "Tokens filtrados: ['The', 'power', 'internet', 'search', 'engines', 'lies', 'ability', 'respond', 'user’s', 'query', 'ordered', 'list', 'web', 'sites', 'ranked', 'importance', 'relevance.', 'The', 'heart', 'Google’s', 'search', 'engine', 'PageRank', 'algorithm,', 'assigns', 'importance', 'value', 'web', 'page,', 'called', 'page', 'rank.', 'The', 'algorithm', 'remarkable', 'given', 'massiveness', 'web', 'one', 'trillion', 'web', 'pages,', 'impressive', 'achievement', 'mathematics,', 'particularly', 'linear', 'algebra.', 'Although', 'actual', 'PageRank', 'algorithm', 'complex', 'many', 'technical', '(and', 'secret)', 'details,', 'page', 'rank', 'particular', 'web', 'page', 'easily', 'described', 'means', 'stochastic', 'model.', 'Consider', 'hypothetical', 'web', 'surfer', 'travels', 'across', 'internet', 'moving', 'page', 'page', 'random.', 'When', 'surfer', 'particular', 'web', 'page,', 'pick', 'one', 'available', 'hypertext', 'links', 'page', 'uniformly', 'random', 'move', 'page.', 'The', 'model', 'described', 'random', 'walk', 'web', 'surfer', 'giant', 'graph', 'called', 'webgraph.', 'In', 'webgraph,', 'vertices', '(nodes)', 'web', 'pages.', 'Vertex', 'x', 'joined', 'vertex', 'directed', 'edge', 'hypertext', 'link', 'page', 'x', 'leads', 'page', 'y.', 'When', 'surfer', 'vertex', 'x,', 'choose', 'edge', 'leading', 'away', 'x', 'uniformly', 'random', 'set', 'available', 'edges,', 'move', 'vertex', 'edge', 'points', 'to.', 'The', 'random', 'surfer', 'model', 'example', 'general', 'stochastic', 'process', 'called', 'random', 'walk', 'graph.', 'Imagine', 'web', 'surfer', 'randomly', 'walking', 'across', 'web', 'long,', 'long', 'time.', 'What', 'probability', 'surfer', 'at,', 'say,', 'page', 'x?', 'To', 'make', 'precise,', 'let', 'pk', 'x', 'denote', 'probability', 'surfer', 'page', 'x', 'k', 'steps.', 'The', 'long-term', 'probability', 'page', 'x', 'defined', 'lim', 'k→∞', 'pk', 'x.', 'This', 'long-term', 'probability', 'precisely', 'page', 'rank', 'page', 'x.', 'Intuitively,', 'long-term', 'probability', 'particular', 'page', 'tend', 'higher', 'pages', 'incoming', 'links', 'smaller', 'pages', 'links,', 'measure', 'importance,', 'popularity,', 'page.', 'The', 'PageRank', 'algorithm', 'understood', 'assignment', 'probabilities', 'site', 'web']\n"
          ]
        }
      ]
    },
    {
      "cell_type": "code",
      "source": [
        "#ya contando la cantidad de repeticiones de las palabras vemos que es mas variado\n",
        "frecuencia = {}\n",
        "for palabra in tokens_filtrados:\n",
        "  if palabra in frecuencia:\n",
        "    frecuencia[palabra] += 1\n",
        "  else:\n",
        "    frecuencia[palabra] = 1\n",
        "\n",
        "print(\"Tabla de Frecuencia de Palabras:\")\n",
        "display(frecuencia)"
      ],
      "metadata": {
        "colab": {
          "base_uri": "https://localhost:8080/",
          "height": 1000
        },
        "collapsed": true,
        "id": "U45XLVKOuD2r",
        "outputId": "350200e0-ea55-4c37-9085-740b4138dc8a"
      },
      "execution_count": null,
      "outputs": [
        {
          "output_type": "stream",
          "name": "stdout",
          "text": [
            "Tabla de Frecuencia de Palabras:\n"
          ]
        },
        {
          "output_type": "display_data",
          "data": {
            "text/plain": [
              "{'The': 7,\n",
              " 'power': 1,\n",
              " 'internet': 2,\n",
              " 'search': 2,\n",
              " 'engines': 1,\n",
              " 'lies': 1,\n",
              " 'ability': 1,\n",
              " 'respond': 1,\n",
              " 'user’s': 1,\n",
              " 'query': 1,\n",
              " 'ordered': 1,\n",
              " 'list': 1,\n",
              " 'web': 12,\n",
              " 'sites': 1,\n",
              " 'ranked': 1,\n",
              " 'importance': 2,\n",
              " 'relevance.': 1,\n",
              " 'heart': 1,\n",
              " 'Google’s': 1,\n",
              " 'engine': 1,\n",
              " 'PageRank': 3,\n",
              " 'algorithm,': 1,\n",
              " 'assigns': 1,\n",
              " 'value': 1,\n",
              " 'page,': 2,\n",
              " 'called': 3,\n",
              " 'page': 14,\n",
              " 'rank.': 1,\n",
              " 'algorithm': 3,\n",
              " 'remarkable': 1,\n",
              " 'given': 1,\n",
              " 'massiveness': 1,\n",
              " 'one': 2,\n",
              " 'trillion': 1,\n",
              " 'pages,': 1,\n",
              " 'impressive': 1,\n",
              " 'achievement': 1,\n",
              " 'mathematics,': 1,\n",
              " 'particularly': 1,\n",
              " 'linear': 1,\n",
              " 'algebra.': 1,\n",
              " 'Although': 1,\n",
              " 'actual': 1,\n",
              " 'complex': 1,\n",
              " 'many': 1,\n",
              " 'technical': 1,\n",
              " '(and': 1,\n",
              " 'secret)': 1,\n",
              " 'details,': 1,\n",
              " 'rank': 2,\n",
              " 'particular': 3,\n",
              " 'easily': 1,\n",
              " 'described': 2,\n",
              " 'means': 1,\n",
              " 'stochastic': 2,\n",
              " 'model.': 1,\n",
              " 'Consider': 1,\n",
              " 'hypothetical': 1,\n",
              " 'surfer': 8,\n",
              " 'travels': 1,\n",
              " 'across': 2,\n",
              " 'moving': 1,\n",
              " 'random.': 1,\n",
              " 'When': 2,\n",
              " 'pick': 1,\n",
              " 'available': 2,\n",
              " 'hypertext': 2,\n",
              " 'links': 2,\n",
              " 'uniformly': 2,\n",
              " 'random': 5,\n",
              " 'move': 2,\n",
              " 'page.': 2,\n",
              " 'model': 2,\n",
              " 'walk': 2,\n",
              " 'giant': 1,\n",
              " 'graph': 1,\n",
              " 'webgraph.': 1,\n",
              " 'In': 1,\n",
              " 'webgraph,': 1,\n",
              " 'vertices': 1,\n",
              " '(nodes)': 1,\n",
              " 'pages.': 1,\n",
              " 'Vertex': 1,\n",
              " 'x': 6,\n",
              " 'joined': 1,\n",
              " 'vertex': 3,\n",
              " 'directed': 1,\n",
              " 'edge': 3,\n",
              " 'link': 1,\n",
              " 'leads': 1,\n",
              " 'y.': 1,\n",
              " 'x,': 1,\n",
              " 'choose': 1,\n",
              " 'leading': 1,\n",
              " 'away': 1,\n",
              " 'set': 1,\n",
              " 'edges,': 1,\n",
              " 'points': 1,\n",
              " 'to.': 1,\n",
              " 'example': 1,\n",
              " 'general': 1,\n",
              " 'process': 1,\n",
              " 'graph.': 1,\n",
              " 'Imagine': 1,\n",
              " 'randomly': 1,\n",
              " 'walking': 1,\n",
              " 'long,': 1,\n",
              " 'long': 1,\n",
              " 'time.': 1,\n",
              " 'What': 1,\n",
              " 'probability': 5,\n",
              " 'at,': 1,\n",
              " 'say,': 1,\n",
              " 'x?': 1,\n",
              " 'To': 1,\n",
              " 'make': 1,\n",
              " 'precise,': 1,\n",
              " 'let': 1,\n",
              " 'pk': 2,\n",
              " 'denote': 1,\n",
              " 'k': 1,\n",
              " 'steps.': 1,\n",
              " 'long-term': 3,\n",
              " 'defined': 1,\n",
              " 'lim': 1,\n",
              " 'k→∞': 1,\n",
              " 'x.': 2,\n",
              " 'This': 1,\n",
              " 'precisely': 1,\n",
              " 'Intuitively,': 1,\n",
              " 'tend': 1,\n",
              " 'higher': 1,\n",
              " 'pages': 2,\n",
              " 'incoming': 1,\n",
              " 'smaller': 1,\n",
              " 'links,': 1,\n",
              " 'measure': 1,\n",
              " 'importance,': 1,\n",
              " 'popularity,': 1,\n",
              " 'understood': 1,\n",
              " 'assignment': 1,\n",
              " 'probabilities': 1,\n",
              " 'site': 1}"
            ]
          },
          "metadata": {}
        }
      ]
    },
    {
      "cell_type": "code",
      "source": [
        "#Entones a visualizar nuevamente el top 10 cambia o aumenta la cantidad de palabras\n",
        "frecuencia_ordenada = sorted(frecuencia.items(), key=lambda x: x[1], reverse=True)\n",
        "top_palabras = frecuencia_ordenada[:10]\n",
        "palabras_top = [palabra for palabra, freq in top_palabras]\n",
        "frecuencias_top = [freq for palabra, freq in top_palabras]\n",
        "plt.figure(figsize=(10, 5))\n",
        "plt.bar(palabras_top, frecuencias_top, color='skyblue')\n",
        "plt.xlabel('Palabras')\n",
        "plt.ylabel('Frecuencia')\n",
        "plt.title('Top Palabras Más Frecuentes')\n",
        "plt.xticks(rotation=45)\n",
        "plt.tight_layout()\n",
        "plt.show()"
      ],
      "metadata": {
        "colab": {
          "base_uri": "https://localhost:8080/",
          "height": 507
        },
        "id": "y1z3zy-CuKBJ",
        "outputId": "d51910d1-17cc-4587-fdba-2012d2b52443"
      },
      "execution_count": null,
      "outputs": [
        {
          "output_type": "display_data",
          "data": {
            "text/plain": [
              "<Figure size 1000x500 with 1 Axes>"
            ],
            "image/png": "[encoded data removed]"
          },
          "metadata": {}
        }
      ]
    },
    {
      "cell_type": "markdown",
      "source": [
        "Al agregar el corpus mayor se aprecia como tiene un mejor contexto hablando del tema del texto, entonces tiene un comportamiento similar pero mejor modelado"
      ],
      "metadata": {
        "id": "opJY03iyuNm-"
      }
    },
    {
      "cell_type": "markdown",
      "source": [
        "**¿Cómo se comportan los nombres propios en la distribución?**\n",
        "\n",
        "En este caso no habia tantos nombres pero si fuera un noticia de \"x\" persona entonces podria mencionarse mucho y centrarse en esta persona, en este caso como es de un libro de matematicas entonces se centra en terminos del texto y de extra la variable que es \"x\".\n",
        "\n",
        "**Si añadimos nombres de personas o lugares, ¿cómo se vería afectada la frecuencia?**\n",
        "\n",
        "En el texto selecionado no afectaria tanto pero si fuera mas citando a la misma persona o si fuera dedicado a una noticia como mencione antes de una persona o lugar se centraria mas en estos nombres, entonces esto podria ser directamente de quien se trata o de que lugar se habla.\n",
        "\n",
        "**¿Cómo afecta la tokenización por espacios a modelos de PLN?**\n",
        "\n",
        "Afecta de forma directa en la seleccion de caracteres especiales y puntos como se observo este igual es sensible a mayusculas y minusculas para cuando se quitan stopwords, aplica lo mimso para contracciones y compuestos, con el contexto linguisticos y el tamaño del vocabulario es grande.\n",
        "\n",
        "**¿Este método es útil para modelos de clasificación de texto o necesita mejoras?**\n",
        "\n",
        "Es util pero necesita ciertas mejoras, dependiendo el objetivo debera de conocerse mejor el contexto de la aplicacion, de inicio el problema de la puntuacion, la sensibilidad de mayusculas y minusculas, el problema con algunas stopwords, las contracciones e abreviaturas y el tamaño del texto, mientras mas grande mas costo computacional tiene, entonces para mejorarlo debere tener bien definido los tokens y entonces esta parte de las contracciones nos servira si se expanden para tener un mejor contexto.\n",
        "\n",
        "**¿Cómo podría afectar en tareas como traducción automática o resumen de texto?**\n",
        "\n",
        "Pues de inicio no es suficiente como para poder hacer estos procesos, ya que seria un caso incoherente quizas con los problemas de puntuacion y en caso de traduccion si fueran por palabras tienen reglas especificas si se intenta traducir de español a ingles y viceversa, lo optimo seria que fuera por oracion, y en el caso de resumenes deberia de simplificar el texto pero le faltara contexto entonces debera hacerse una tokenizacion mas robusta.\n"
      ],
      "metadata": {
        "id": "4TIpr4-8ug2x"
      }
    },
    {
      "cell_type": "markdown",
      "source": [
        "# Normalización\n",
        "\n",
        "Conversión a minúsculas"
      ],
      "metadata": {
        "id": "Ubv2EQBNZ5IZ"
      }
    },
    {
      "cell_type": "code",
      "source": [
        "#Con lower en la cadena de texto generalizamos el texto a minusculas\n",
        "display(text.lower())"
      ],
      "metadata": {
        "colab": {
          "base_uri": "https://localhost:8080/",
          "height": 122
        },
        "id": "bQXlmBZkbR6c",
        "outputId": "115c163a-2bee-48f5-ed47-2dedd0e376c4"
      },
      "execution_count": null,
      "outputs": [
        {
          "output_type": "display_data",
          "data": {
            "text/plain": [
              "'the power of internet search engines lies in their ability to respond to a user’s query with an ordered list of web sites ranked by importance and relevance. the heart of google’s search engine is the pagerank algorithm, which assigns an importance value to each web page, called its page rank. the algorithm is remarkable given the massiveness of the web with over one trillion web pages, and is an impressive achievement of mathematics, particularly linear algebra. although the actual pagerank algorithm is complex with many technical (and secret) details, the page rank of a particular web page is easily described by means of a stochastic model. consider a hypothetical web surfer who travels across the internet moving from page to page at random. when the surfer is on a particular web page, they pick one of the available hypertext links on that page uniformly at random and then move to that page.'"
            ],
            "application/vnd.google.colaboratory.intrinsic+json": {
              "type": "string"
            }
          },
          "metadata": {}
        }
      ]
    },
    {
      "cell_type": "markdown",
      "source": [
        "**¿Por qué es importante normalizar mayúsculas y minúsculas?**\n",
        "\n",
        "En este caso seria para tener una limpieza mas optima en las palabras, ya que al tokenizar se es muy fragil a estas diferencias es mejor generalizar el texto en solo mayusculas o solo minusculas pero dependera mas del enfoque del texto\n",
        "\n",
        "**¿Cómo afecta a nombres propios?**\n",
        "\n",
        "En este caso se podria generalizar el nombre pero en textos que son cientificos o de estudio pierde su formato ya que para referencias o menciones de otras investigaciones se le pone el nombre de estas personas y tiene la regla de empezar con mayusculas, se podria excluir pero seria un proceso mas elaborado\n",
        "\n",
        "**Identifica en que casos se debe mantener mayúsculas.**\n",
        "\n",
        "Dependiendo del texto cuando son formulas, acronimos o abreviaciones, en estos casos seria a considerar."
      ],
      "metadata": {
        "id": "gXsa5kx-Z5EY"
      }
    },
    {
      "cell_type": "markdown",
      "source": [
        "# **Eliminar acentos**"
      ],
      "metadata": {
        "id": "S8tA_1MGhyX0"
      }
    },
    {
      "cell_type": "code",
      "source": [
        "#se importa la liberia unicodedata nos permetira cambiar letras con acento a su letra\n",
        "#sin acento\n",
        "import unicodedata\n",
        "\n",
        "def remov_acent(text):\n",
        "  return ''.join(c for c in unicodedata.normalize('NFD', text) if unicodedata.category(c) != 'Mn')\n",
        "\n",
        "display(remov_acent(text.lower()))"
      ],
      "metadata": {
        "colab": {
          "base_uri": "https://localhost:8080/",
          "height": 122
        },
        "id": "euf4lp6ah486",
        "outputId": "f0ce7d77-64ad-41f1-8424-5d0b424b99f0"
      },
      "execution_count": null,
      "outputs": [
        {
          "output_type": "display_data",
          "data": {
            "text/plain": [
              "'the power of internet search engines lies in their ability to respond to a user’s query with an ordered list of web sites ranked by importance and relevance. the heart of google’s search engine is the pagerank algorithm, which assigns an importance value to each web page, called its page rank. the algorithm is remarkable given the massiveness of the web with over one trillion web pages, and is an impressive achievement of mathematics, particularly linear algebra. although the actual pagerank algorithm is complex with many technical (and secret) details, the page rank of a particular web page is easily described by means of a stochastic model. consider a hypothetical web surfer who travels across the internet moving from page to page at random. when the surfer is on a particular web page, they pick one of the available hypertext links on that page uniformly at random and then move to that page.'"
            ],
            "application/vnd.google.colaboratory.intrinsic+json": {
              "type": "string"
            }
          },
          "metadata": {}
        }
      ]
    },
    {
      "cell_type": "markdown",
      "source": [
        "**¿Cuándo deberíamos mantener los acentos en PLN?**\n",
        "\n",
        "Cuando sean casos de gramatica o de traduccion ya que en estos casos si es fundamental por su contexto en el diseño de oraciones o en el caso de gramatica poder darle un formato ideal o correcto en el idioma."
      ],
      "metadata": {
        "id": "6_P8Y_6mjARC"
      }
    },
    {
      "cell_type": "markdown",
      "source": [
        "# **Eliminación de Ruido**"
      ],
      "metadata": {
        "id": "9VH2mS03i8pj"
      }
    },
    {
      "cell_type": "code",
      "source": [
        "import string"
      ],
      "metadata": {
        "id": "aBuXX3nRjPDN"
      },
      "execution_count": null,
      "outputs": []
    },
    {
      "cell_type": "code",
      "source": [
        "# texto sacado de una publicacion de X (twitter), por eso las palabras\n",
        "# vulgares, pero con una expresion regular quitamos estos caracteres de los emojis\n",
        "# y aparte con la libreria string quitamos lo de puntuaciones especiales\n",
        "text_p=\"la primer semana de @Sergio_Ramos en rayados...\\n\\n• Mandó a la verga ignorando a su afición que lo esperaban desde las 6am en El Barrial.\\n\\n• Mandó a la verga a @Sergio_Relojes al\\nquitarle el gafete de capitán.\\n\\n😂😆😆🤣\\n\\n#SevillaFC #Betis\"\n",
        "print(\"Texto original\\n\\n\")\n",
        "print(text_p)\n",
        "print(\"\\n\\nTexto eliminando ruido\\n\\n\")\n",
        "print(re.sub(r'[^\\w\\s]','',text_p.translate(str.maketrans('','',string.punctuation))))"
      ],
      "metadata": {
        "id": "cfSMFj-tjS9v",
        "colab": {
          "base_uri": "https://localhost:8080/"
        },
        "outputId": "95675fd4-567a-43d0-f6c1-e8e3697f9065"
      },
      "execution_count": null,
      "outputs": [
        {
          "output_type": "stream",
          "name": "stdout",
          "text": [
            "Texto original\n",
            "\n",
            "\n",
            "la primer semana de @Sergio_Ramos en rayados...\n",
            "\n",
            "• Mandó a la verga ignorando a su afición que lo esperaban desde las 6am en El Barrial.\n",
            "\n",
            "• Mandó a la verga a @Sergio_Relojes al\n",
            "quitarle el gafete de capitán.\n",
            "\n",
            "😂😆😆🤣\n",
            "\n",
            "#SevillaFC #Betis\n",
            "\n",
            "\n",
            "Texto eliminando ruido\n",
            "\n",
            "\n",
            "la primer semana de SergioRamos en rayados\n",
            "\n",
            " Mandó a la verga ignorando a su afición que lo esperaban desde las 6am en El Barrial\n",
            "\n",
            " Mandó a la verga a SergioRelojes al\n",
            "quitarle el gafete de capitán\n",
            "\n",
            "\n",
            "\n",
            "SevillaFC Betis\n"
          ]
        }
      ]
    },
    {
      "cell_type": "markdown",
      "source": [
        "**¿Cómo crees que afecta la eliminación de emojis al análisis de sentimiento?**\n",
        "\n",
        "En este caso siento que los emojis o incluso como se expresa uno puede servir, en este caso los emojis si se codificaran y se les asignara un valor podria tener un significado bajo las emociones, pero eso siempre y cuando la persona igual sea expresivo desde esa forma, si no llega a usar emojis no serviria mucho considerar esta eliminacion de ruido.\n",
        "\n",
        "**¿Cómo podemos manejar hashtags y menciones en redes sociales?**\n",
        "\n",
        "Yo lo veo como una exclusion en la reglas de las expresiones regulares para así ver estos tag del \"#\" y así poder ver mas noticias o publicaciones relacionadas al mismo tema, mientras que las menciones muchas veces es con \"@\" entonces igual con expresiones regulares se le puede dar la forma de que sea un caso excluido para que se puedan guardar y ver los perfiles si llegan a ser necesarios.\n",
        "\n",
        "**Prueba con tweets o mensajes informales con emojis y hashtags.**\n",
        "\n",
        "Con una eliminacion mas especifica en este caso solo se excluyen las menciones y los hashtag, pero igual se pueden eliminar y ajustar los textos."
      ],
      "metadata": {
        "id": "OJ50I42L6It3"
      }
    },
    {
      "cell_type": "code",
      "source": [
        "#en este caso solo quitamos los emojis para reconocer menciones y hashtag\n",
        "print(re.sub(r'[^\\w\\s#@]','',text_p))"
      ],
      "metadata": {
        "colab": {
          "base_uri": "https://localhost:8080/"
        },
        "id": "JRiQi-Al6IYQ",
        "outputId": "dc0ba748-fb34-4699-d959-f6aecaba0685"
      },
      "execution_count": null,
      "outputs": [
        {
          "output_type": "stream",
          "name": "stdout",
          "text": [
            "la primer semana de @Sergio_Ramos en rayados\n",
            "\n",
            " Mandó a la verga ignorando a su afición que lo esperaban desde las 6am en El Barrial\n",
            "\n",
            " Mandó a la verga a @Sergio_Relojes al\n",
            "quitarle el gafete de capitán\n",
            "\n",
            "\n",
            "\n",
            "#SevillaFC #Betis\n"
          ]
        }
      ]
    },
    {
      "cell_type": "markdown",
      "source": [
        "# **Eliminación de Números y Caracteres Especiales**"
      ],
      "metadata": {
        "id": "Q_MyjZvh6VD4"
      }
    },
    {
      "cell_type": "code",
      "source": [
        "#con la expresion regular separamos los decimales y caracteres especiales del texto\n",
        "text_p2 = \"Hey gente qué onda, les cuento que andamos por la avenida principal del centro como a eso de las 8 más o menos, no sé, tal vez un poco después si nos ponemos a platicar mucho, pero bueno ahí nos vemos. Va a estar buena la onda porque vamos a echar música tranqui y quien sabe si alguien se anima a cantar algo también, traigan ganas de pasarla bien y lo que quieran compartir, ya saben cómo es esto. Nos encontramos tipo por el kiosko o cerca de la esquina donde siempre hay gente, no tiene pierde. Los esperamos #VibraBuena #NocheDeMusica #AndoPorElCentro\"\n",
        "print(\"texto original\")\n",
        "display(text_p2)\n",
        "\n",
        "print(\"\\n\\ntexto sin menciones y caracteres\")\n",
        "display(re.sub(r'\\d+|[@#]\\w+','',text_p2))"
      ],
      "metadata": {
        "colab": {
          "base_uri": "https://localhost:8080/",
          "height": 227
        },
        "id": "lRhKU8Tk6Znw",
        "outputId": "7d13bdf7-ecd2-4de3-9eec-6245917b33ad"
      },
      "execution_count": null,
      "outputs": [
        {
          "output_type": "stream",
          "name": "stdout",
          "text": [
            "texto original\n"
          ]
        },
        {
          "output_type": "display_data",
          "data": {
            "text/plain": [
              "'Hey gente qué onda, les cuento que andamos por la avenida principal del centro como a eso de las 8 más o menos, no sé, tal vez un poco después si nos ponemos a platicar mucho, pero bueno ahí nos vemos. Va a estar buena la onda porque vamos a echar música tranqui y quien sabe si alguien se anima a cantar algo también, traigan ganas de pasarla bien y lo que quieran compartir, ya saben cómo es esto. Nos encontramos tipo por el kiosko o cerca de la esquina donde siempre hay gente, no tiene pierde. Los esperamos #VibraBuena #NocheDeMusica #AndoPorElCentro'"
            ],
            "application/vnd.google.colaboratory.intrinsic+json": {
              "type": "string"
            }
          },
          "metadata": {}
        },
        {
          "output_type": "stream",
          "name": "stdout",
          "text": [
            "\n",
            "\n",
            "texto sin menciones y caracteres\n"
          ]
        },
        {
          "output_type": "display_data",
          "data": {
            "text/plain": [
              "'Hey gente qué onda, les cuento que andamos por la avenida principal del centro como a eso de las  más o menos, no sé, tal vez un poco después si nos ponemos a platicar mucho, pero bueno ahí nos vemos. Va a estar buena la onda porque vamos a echar música tranqui y quien sabe si alguien se anima a cantar algo también, traigan ganas de pasarla bien y lo que quieran compartir, ya saben cómo es esto. Nos encontramos tipo por el kiosko o cerca de la esquina donde siempre hay gente, no tiene pierde. Los esperamos   '"
            ],
            "application/vnd.google.colaboratory.intrinsic+json": {
              "type": "string"
            }
          },
          "metadata": {}
        }
      ]
    },
    {
      "cell_type": "markdown",
      "source": [
        "**¿Cuándo es útil eliminar números?**\n",
        "\n",
        "\n",
        "\n",
        "**¿Qué problemas surgen si quitamos menciones en redes sociales?**"
      ],
      "metadata": {
        "id": "n1CrQne56Z2f"
      }
    },
    {
      "cell_type": "markdown",
      "source": [
        "# **Expansión de Contracciones**"
      ],
      "metadata": {
        "id": "P3YK8sFB6gX_"
      }
    },
    {
      "cell_type": "code",
      "source": [
        "contracciones = {\"al\": \"a el\", \"del\": \"de el\", \"pa'l\": \"para el\"}\n",
        "texto = \"Voy pa'l cine del centro.\"\n",
        "\n",
        "for contra, expandida in contracciones.items():\n",
        "    texto = texto.replace(contra, expandida)\n",
        "\n",
        "display(texto)"
      ],
      "metadata": {
        "id": "3zvVvci16lj-",
        "colab": {
          "base_uri": "https://localhost:8080/",
          "height": 35
        },
        "outputId": "fc2a6ba6-bc6f-4221-c9fc-abdf4e39e70b"
      },
      "execution_count": null,
      "outputs": [
        {
          "output_type": "display_data",
          "data": {
            "text/plain": [
              "'Voy para el cine de el centro.'"
            ],
            "application/vnd.google.colaboratory.intrinsic+json": {
              "type": "string"
            }
          },
          "metadata": {}
        }
      ]
    },
    {
      "cell_type": "markdown",
      "source": [
        "**¿Cómo afecta la semántica del texto?**\n",
        "**¿Cómo puede ayudar en análisis de sentimiento?**"
      ],
      "metadata": {
        "id": "XLwzWWMt6l6I"
      }
    },
    {
      "cell_type": "markdown",
      "source": [
        "# **Ejercicio 2**\n",
        "Evalua el Impacto de la Normalización en la Tokenización.\n",
        "\n",
        "**Aplica diferentes niveles de normalización a un texto.**\n",
        "\n",
        "**Tokeniza el texto antes y después de cada transformación.**"
      ],
      "metadata": {
        "id": "bqfY3NeX6pdJ"
      }
    },
    {
      "cell_type": "code",
      "source": [
        "#normalizacion del texto:\n",
        "text3=(\"oye bro, no sé si te DIJERON o no, pero mañana nos vemos en el PARQUE cerca de la tienda, tipo 5pm. lleva algo pa' picar, tipo unas papas o lo q sea... ah, y NO OLVIDES traer tu guitarra q ayer me dijiste q querías tocar unas rolas viejas 🎸.\\nsi alguien más va a ir, avísame xq quiero saber cuántos somos. no te preocupes si llegas tarde, total, ya sabes cómo es esto... siempre hay alguien q se pone a platicar y se alarga TODO.\\nnos vemos allá, échale ganas y no faltes, q esta vez va a estar BUENO 😎.\")\n",
        "print(text3)"
      ],
      "metadata": {
        "colab": {
          "base_uri": "https://localhost:8080/"
        },
        "id": "AlBJmOyMS1K7",
        "outputId": "1f81efdf-f52f-4149-9bba-667ba2c6958f"
      },
      "execution_count": null,
      "outputs": [
        {
          "output_type": "stream",
          "name": "stdout",
          "text": [
            "oye bro, no sé si te DIJERON o no, pero mañana nos vemos en el PARQUE cerca de la tienda, tipo 5pm. lleva algo pa' picar, tipo unas papas o lo q sea... ah, y NO OLVIDES traer tu guitarra q ayer me dijiste q querías tocar unas rolas viejas 🎸.\n",
            "si alguien más va a ir, avísame xq quiero saber cuántos somos. no te preocupes si llegas tarde, total, ya sabes cómo es esto... siempre hay alguien q se pone a platicar y se alarga TODO.\n",
            "nos vemos allá, échale ganas y no faltes, q esta vez va a estar BUENO 😎.\n"
          ]
        }
      ]
    },
    {
      "cell_type": "code",
      "source": [
        "# Diccionario de contracciones\n",
        "contract_dict={\"pa\": \"para\", \"q\": \"que\", \"xq\": \"porque\", \"bro\": \"hermano\", \"rolas\": \"canciones\", \"picar\": \"comer\"}\n",
        "\n",
        "#Contracciones ordenadas\n",
        "contract_dict = {k: contract_dict[k] for k in sorted(contract_dict.keys(), key=len, reverse=True)}\n",
        "\n",
        "#Expansion de contracciones\n",
        "for contra, expandida in contract_dict.items():\n",
        "    # Usamos \\b para asegurar que solo reemplacemos palabras completas\n",
        "    text3 = re.sub(r'\\b' + re.escape(contra) + r'\\b', expandida, text3)\n",
        "\n",
        "#Eliminacion de ruido\n",
        "text3=re.sub(r'[^\\w\\s]','',text3.translate(str.maketrans('','',string.punctuation)))\n",
        "\n",
        "#Eliminacion de numeros y caracteres especiales\n",
        "text3=re.sub(r'\\d+|[@#]\\w+','',text3)\n",
        "\n",
        "#Eliminacion de acentos con la funcion del mismo bloque\n",
        "text3=remov_acent(text3.lower())"
      ],
      "metadata": {
        "id": "LD-N9VUNS3f0"
      },
      "execution_count": null,
      "outputs": []
    },
    {
      "cell_type": "code",
      "source": [
        "#Texto despues de normalizar\n",
        "print('texto trabajado:\\n\\n', text3)"
      ],
      "metadata": {
        "colab": {
          "base_uri": "https://localhost:8080/"
        },
        "id": "YgmAkg3Rd7I1",
        "outputId": "0829a279-bff3-4ab6-d066-ab491baca57d"
      },
      "execution_count": null,
      "outputs": [
        {
          "output_type": "stream",
          "name": "stdout",
          "text": [
            "texto trabajado:\n",
            "\n",
            " oye hermano no se si te dijeron o no pero manana nos vemos en el parque cerca de la tienda tipo pm lleva algo para comer tipo unas papas o lo que sea ah y no olvides traer tu guitarra que ayer me dijiste que querias tocar unas canciones viejas \n",
            "si alguien mas va a ir avisame porque quiero saber cuantos somos no te preocupes si llegas tarde total ya sabes como es esto siempre hay alguien que se pone a platicar y se alarga todo\n",
            "nos vemos alla echale ganas y no faltes que esta vez va a estar bueno \n"
          ]
        }
      ]
    },
    {
      "cell_type": "code",
      "source": [
        "#Eliminacion de stopwords\n",
        "tokens=text3.split()\n",
        "stop_words = set(stopwords.words('spanish'))\n",
        "tokens_filtrados = [palabra for palabra in tokens if palabra not in stop_words]\n",
        "\n",
        "#tokenizacion despues de nmormalizar\n",
        "display(\"Tokens filtrados:\", tokens_filtrados)"
      ],
      "metadata": {
        "colab": {
          "base_uri": "https://localhost:8080/",
          "height": 990
        },
        "id": "TBc7E_wSdxFF",
        "outputId": "1e1764b2-5e91-401b-80ce-3d0fed8dcc87"
      },
      "execution_count": null,
      "outputs": [
        {
          "output_type": "display_data",
          "data": {
            "text/plain": [
              "'Tokens filtrados:'"
            ],
            "application/vnd.google.colaboratory.intrinsic+json": {
              "type": "string"
            }
          },
          "metadata": {}
        },
        {
          "output_type": "display_data",
          "data": {
            "text/plain": [
              "['oye',\n",
              " 'hermano',\n",
              " 'si',\n",
              " 'dijeron',\n",
              " 'manana',\n",
              " 'vemos',\n",
              " 'parque',\n",
              " 'cerca',\n",
              " 'tienda',\n",
              " 'tipo',\n",
              " 'pm',\n",
              " 'lleva',\n",
              " 'comer',\n",
              " 'tipo',\n",
              " 'unas',\n",
              " 'papas',\n",
              " 'ah',\n",
              " 'olvides',\n",
              " 'traer',\n",
              " 'guitarra',\n",
              " 'ayer',\n",
              " 'dijiste',\n",
              " 'querias',\n",
              " 'tocar',\n",
              " 'unas',\n",
              " 'canciones',\n",
              " 'viejas',\n",
              " 'si',\n",
              " 'alguien',\n",
              " 'mas',\n",
              " 'va',\n",
              " 'ir',\n",
              " 'avisame',\n",
              " 'quiero',\n",
              " 'saber',\n",
              " 'cuantos',\n",
              " 'preocupes',\n",
              " 'si',\n",
              " 'llegas',\n",
              " 'tarde',\n",
              " 'total',\n",
              " 'sabes',\n",
              " 'siempre',\n",
              " 'alguien',\n",
              " 'pone',\n",
              " 'platicar',\n",
              " 'alarga',\n",
              " 'vemos',\n",
              " 'alla',\n",
              " 'echale',\n",
              " 'ganas',\n",
              " 'faltes',\n",
              " 'vez',\n",
              " 'va',\n",
              " 'bueno']"
            ]
          },
          "metadata": {}
        }
      ]
    },
    {
      "cell_type": "markdown",
      "source": [
        "**¿Qué diferencias observas en el significado del texto después de cada transformación?**\n",
        "\n",
        "En este caso al aplicar cada transformacion podemos hacer un texto estandar el cual es mas manejable para el analisis que se hara y con ello es mejor su uso para un proceso especifico como podria ser analizar textos y comparar las tematicas."
      ],
      "metadata": {
        "id": "nWqjJIgsk0Po"
      }
    }
  ]
}